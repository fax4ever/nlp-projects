{
 "cells": [
  {
   "cell_type": "markdown",
   "id": "803724cc",
   "metadata": {},
   "source": [
    "# Sentence Splitter: Out of Domain Evaluation\n",
    "\n",
    "## Test Set Inference Using Generative Models\n",
    "\n",
    "In this notebook, we're going to use a fine-tuned sentence splitting LLM model based on Minerva 7B Instruct to evaluate performance on out-of-domain data.\n",
    "\n",
    "> **Note**: The F1 from the test set is not used to tune models or select checkpoints."
   ]
  },
  {
   "cell_type": "markdown",
   "id": "310e3a31",
   "metadata": {},
   "source": [
    "Install the libraries in the local virtual environment.\n",
    "We use specific versions to enforce maximum reproducibility for this notebook."
   ]
  },
  {
   "cell_type": "code",
   "execution_count": 1,
   "id": "215f6adc",
   "metadata": {},
   "outputs": [
    {
     "name": "stdout",
     "output_type": "stream",
     "text": [
      "Requirement already satisfied: pip in /opt/app-root/lib64/python3.11/site-packages (24.2)\n",
      "Collecting pip\n",
      "  Downloading pip-25.2-py3-none-any.whl.metadata (4.7 kB)\n",
      "Downloading pip-25.2-py3-none-any.whl (1.8 MB)\n",
      "\u001b[2K   \u001b[90m━━━━━━━━━━━━━━━━━━━━━━━━━━━━━━━━━━━━━━━━\u001b[0m \u001b[32m1.8/1.8 MB\u001b[0m \u001b[31m25.8 MB/s\u001b[0m eta \u001b[36m0:00:00\u001b[0m\n",
      "\u001b[?25hInstalling collected packages: pip\n",
      "  Attempting uninstall: pip\n",
      "    Found existing installation: pip 24.2\n",
      "    Uninstalling pip-24.2:\n",
      "      Successfully uninstalled pip-24.2\n",
      "Successfully installed pip-25.2\n",
      "Collecting transformers==4.56.1\n",
      "  Downloading transformers-4.56.1-py3-none-any.whl.metadata (42 kB)\n",
      "Collecting evaluate==0.4.5\n",
      "  Downloading evaluate-0.4.5-py3-none-any.whl.metadata (9.5 kB)\n",
      "Collecting torch==2.7.0\n",
      "  Downloading torch-2.7.0-cp311-cp311-manylinux_2_28_x86_64.whl.metadata (29 kB)\n",
      "Collecting unsloth==2025.9.1\n",
      "  Downloading unsloth-2025.9.1-py3-none-any.whl.metadata (52 kB)\n",
      "Collecting ipywidgets==8.1.7\n",
      "  Downloading ipywidgets-8.1.7-py3-none-any.whl.metadata (2.4 kB)\n",
      "Collecting numpy==2.3.2\n",
      "  Downloading numpy-2.3.2-cp311-cp311-manylinux_2_27_x86_64.manylinux_2_28_x86_64.whl.metadata (62 kB)\n",
      "Collecting pandas==2.3.2\n",
      "  Downloading pandas-2.3.2-cp311-cp311-manylinux_2_17_x86_64.manylinux2014_x86_64.whl.metadata (91 kB)\n",
      "Collecting datasets==3.6.0\n",
      "  Downloading datasets-3.6.0-py3-none-any.whl.metadata (19 kB)\n",
      "Collecting jupyter==1.1.1\n",
      "  Downloading jupyter-1.1.1-py2.py3-none-any.whl.metadata (2.0 kB)\n",
      "Collecting scikit-learn==1.7.1\n",
      "  Downloading scikit_learn-1.7.1-cp311-cp311-manylinux2014_x86_64.manylinux_2_17_x86_64.whl.metadata (11 kB)\n",
      "Collecting filelock (from transformers==4.56.1)\n",
      "  Downloading filelock-3.19.1-py3-none-any.whl.metadata (2.1 kB)\n",
      "Collecting huggingface-hub<1.0,>=0.34.0 (from transformers==4.56.1)\n",
      "  Downloading huggingface_hub-0.34.4-py3-none-any.whl.metadata (14 kB)\n",
      "Requirement already satisfied: packaging>=20.0 in /opt/app-root/lib64/python3.11/site-packages (from transformers==4.56.1) (25.0)\n",
      "Requirement already satisfied: pyyaml>=5.1 in /opt/app-root/lib64/python3.11/site-packages (from transformers==4.56.1) (6.0.2)\n",
      "Collecting regex!=2019.12.17 (from transformers==4.56.1)\n",
      "  Downloading regex-2025.9.1-cp311-cp311-manylinux2014_x86_64.manylinux_2_17_x86_64.manylinux_2_28_x86_64.whl.metadata (40 kB)\n",
      "Requirement already satisfied: requests in /opt/app-root/lib64/python3.11/site-packages (from transformers==4.56.1) (2.32.4)\n",
      "Collecting tokenizers<=0.23.0,>=0.22.0 (from transformers==4.56.1)\n",
      "  Downloading tokenizers-0.22.0-cp39-abi3-manylinux_2_17_x86_64.manylinux2014_x86_64.whl.metadata (6.8 kB)\n",
      "Collecting safetensors>=0.4.3 (from transformers==4.56.1)\n",
      "  Downloading safetensors-0.6.2-cp38-abi3-manylinux_2_17_x86_64.manylinux2014_x86_64.whl.metadata (4.1 kB)\n",
      "Collecting tqdm>=4.27 (from transformers==4.56.1)\n",
      "  Downloading tqdm-4.67.1-py3-none-any.whl.metadata (57 kB)\n",
      "Collecting dill (from evaluate==0.4.5)\n",
      "  Downloading dill-0.4.0-py3-none-any.whl.metadata (10 kB)\n",
      "Collecting xxhash (from evaluate==0.4.5)\n",
      "  Downloading xxhash-3.5.0-cp311-cp311-manylinux_2_17_x86_64.manylinux2014_x86_64.whl.metadata (12 kB)\n",
      "Collecting multiprocess (from evaluate==0.4.5)\n",
      "  Downloading multiprocess-0.70.18-py311-none-any.whl.metadata (7.5 kB)\n",
      "Collecting fsspec>=2021.05.0 (from fsspec[http]>=2021.05.0->evaluate==0.4.5)\n",
      "  Downloading fsspec-2025.9.0-py3-none-any.whl.metadata (10 kB)\n",
      "Requirement already satisfied: typing-extensions>=4.10.0 in /opt/app-root/lib64/python3.11/site-packages (from torch==2.7.0) (4.14.0)\n",
      "Collecting sympy>=1.13.3 (from torch==2.7.0)\n",
      "  Downloading sympy-1.14.0-py3-none-any.whl.metadata (12 kB)\n",
      "Collecting networkx (from torch==2.7.0)\n",
      "  Downloading networkx-3.5-py3-none-any.whl.metadata (6.3 kB)\n",
      "Requirement already satisfied: jinja2 in /opt/app-root/lib64/python3.11/site-packages (from torch==2.7.0) (3.1.6)\n",
      "Collecting nvidia-cuda-nvrtc-cu12==12.6.77 (from torch==2.7.0)\n",
      "  Downloading nvidia_cuda_nvrtc_cu12-12.6.77-py3-none-manylinux2014_x86_64.whl.metadata (1.5 kB)\n",
      "Collecting nvidia-cuda-runtime-cu12==12.6.77 (from torch==2.7.0)\n",
      "  Downloading nvidia_cuda_runtime_cu12-12.6.77-py3-none-manylinux2014_x86_64.manylinux_2_17_x86_64.whl.metadata (1.5 kB)\n",
      "Collecting nvidia-cuda-cupti-cu12==12.6.80 (from torch==2.7.0)\n",
      "  Downloading nvidia_cuda_cupti_cu12-12.6.80-py3-none-manylinux2014_x86_64.manylinux_2_17_x86_64.whl.metadata (1.6 kB)\n",
      "Collecting nvidia-cudnn-cu12==9.5.1.17 (from torch==2.7.0)\n",
      "  Downloading nvidia_cudnn_cu12-9.5.1.17-py3-none-manylinux_2_28_x86_64.whl.metadata (1.6 kB)\n",
      "Collecting nvidia-cublas-cu12==12.6.4.1 (from torch==2.7.0)\n",
      "  Downloading nvidia_cublas_cu12-12.6.4.1-py3-none-manylinux2014_x86_64.manylinux_2_17_x86_64.whl.metadata (1.5 kB)\n",
      "Collecting nvidia-cufft-cu12==11.3.0.4 (from torch==2.7.0)\n",
      "  Downloading nvidia_cufft_cu12-11.3.0.4-py3-none-manylinux2014_x86_64.manylinux_2_17_x86_64.whl.metadata (1.5 kB)\n",
      "Collecting nvidia-curand-cu12==10.3.7.77 (from torch==2.7.0)\n",
      "  Downloading nvidia_curand_cu12-10.3.7.77-py3-none-manylinux2014_x86_64.manylinux_2_17_x86_64.whl.metadata (1.5 kB)\n",
      "Collecting nvidia-cusolver-cu12==11.7.1.2 (from torch==2.7.0)\n",
      "  Downloading nvidia_cusolver_cu12-11.7.1.2-py3-none-manylinux2014_x86_64.manylinux_2_17_x86_64.whl.metadata (1.6 kB)\n",
      "Collecting nvidia-cusparse-cu12==12.5.4.2 (from torch==2.7.0)\n",
      "  Downloading nvidia_cusparse_cu12-12.5.4.2-py3-none-manylinux2014_x86_64.manylinux_2_17_x86_64.whl.metadata (1.6 kB)\n",
      "Collecting nvidia-cusparselt-cu12==0.6.3 (from torch==2.7.0)\n",
      "  Downloading nvidia_cusparselt_cu12-0.6.3-py3-none-manylinux2014_x86_64.whl.metadata (6.8 kB)\n",
      "Collecting nvidia-nccl-cu12==2.26.2 (from torch==2.7.0)\n",
      "  Downloading nvidia_nccl_cu12-2.26.2-py3-none-manylinux2014_x86_64.manylinux_2_17_x86_64.whl.metadata (2.0 kB)\n",
      "Collecting nvidia-nvtx-cu12==12.6.77 (from torch==2.7.0)\n",
      "  Downloading nvidia_nvtx_cu12-12.6.77-py3-none-manylinux2014_x86_64.manylinux_2_17_x86_64.whl.metadata (1.6 kB)\n",
      "Collecting nvidia-nvjitlink-cu12==12.6.85 (from torch==2.7.0)\n",
      "  Downloading nvidia_nvjitlink_cu12-12.6.85-py3-none-manylinux2010_x86_64.manylinux_2_12_x86_64.whl.metadata (1.5 kB)\n",
      "Collecting nvidia-cufile-cu12==1.11.1.6 (from torch==2.7.0)\n",
      "  Downloading nvidia_cufile_cu12-1.11.1.6-py3-none-manylinux2014_x86_64.manylinux_2_17_x86_64.whl.metadata (1.5 kB)\n",
      "Collecting triton==3.3.0 (from torch==2.7.0)\n",
      "  Downloading triton-3.3.0-cp311-cp311-manylinux_2_27_x86_64.manylinux_2_28_x86_64.whl.metadata (1.5 kB)\n",
      "Collecting unsloth_zoo>=2025.9.1 (from unsloth==2025.9.1)\n",
      "  Downloading unsloth_zoo-2025.9.2-py3-none-any.whl.metadata (9.5 kB)\n",
      "Collecting xformers>=0.0.27.post2 (from unsloth==2025.9.1)\n",
      "  Downloading xformers-0.0.32.post2-cp39-abi3-manylinux_2_28_x86_64.whl.metadata (1.1 kB)\n",
      "Collecting bitsandbytes (from unsloth==2025.9.1)\n",
      "  Downloading bitsandbytes-0.47.0-py3-none-manylinux_2_24_x86_64.whl.metadata (11 kB)\n",
      "Collecting tyro (from unsloth==2025.9.1)\n",
      "  Downloading tyro-0.9.31-py3-none-any.whl.metadata (11 kB)\n",
      "Collecting sentencepiece>=0.2.0 (from unsloth==2025.9.1)\n",
      "  Downloading sentencepiece-0.2.1-cp311-cp311-manylinux_2_27_x86_64.manylinux_2_28_x86_64.whl.metadata (10 kB)\n",
      "Requirement already satisfied: psutil in /opt/app-root/lib64/python3.11/site-packages (from unsloth==2025.9.1) (7.0.0)\n",
      "Requirement already satisfied: wheel>=0.42.0 in /opt/app-root/lib64/python3.11/site-packages (from unsloth==2025.9.1) (0.45.1)\n",
      "Collecting accelerate>=0.34.1 (from unsloth==2025.9.1)\n",
      "  Downloading accelerate-1.10.1-py3-none-any.whl.metadata (19 kB)\n",
      "Collecting trl!=0.15.0,!=0.19.0,!=0.9.0,!=0.9.1,!=0.9.2,!=0.9.3,>=0.7.9 (from unsloth==2025.9.1)\n",
      "  Downloading trl-0.22.2-py3-none-any.whl.metadata (11 kB)\n",
      "Collecting peft!=0.11.0,>=0.7.1 (from unsloth==2025.9.1)\n",
      "  Downloading peft-0.17.1-py3-none-any.whl.metadata (14 kB)\n",
      "Collecting protobuf (from unsloth==2025.9.1)\n",
      "  Downloading protobuf-6.32.0-cp39-abi3-manylinux2014_x86_64.whl.metadata (593 bytes)\n",
      "Collecting hf_transfer (from unsloth==2025.9.1)\n",
      "  Downloading hf_transfer-0.1.9-cp38-abi3-manylinux_2_17_x86_64.manylinux2014_x86_64.whl.metadata (1.7 kB)\n",
      "Collecting diffusers (from unsloth==2025.9.1)\n",
      "  Downloading diffusers-0.35.1-py3-none-any.whl.metadata (20 kB)\n",
      "Collecting torchvision (from unsloth==2025.9.1)\n",
      "  Downloading torchvision-0.23.0-cp311-cp311-manylinux_2_28_x86_64.whl.metadata (6.1 kB)\n",
      "Collecting pyarrow>=15.0.0 (from datasets==3.6.0)\n",
      "  Downloading pyarrow-21.0.0-cp311-cp311-manylinux_2_28_x86_64.whl.metadata (3.3 kB)\n",
      "Collecting dill (from evaluate==0.4.5)\n",
      "  Downloading dill-0.3.8-py3-none-any.whl.metadata (10 kB)\n",
      "Collecting multiprocess (from evaluate==0.4.5)\n",
      "  Downloading multiprocess-0.70.16-py311-none-any.whl.metadata (7.2 kB)\n",
      "Collecting fsspec>=2021.05.0 (from fsspec[http]>=2021.05.0->evaluate==0.4.5)\n",
      "  Downloading fsspec-2025.3.0-py3-none-any.whl.metadata (11 kB)\n",
      "Requirement already satisfied: comm>=0.1.3 in /opt/app-root/lib64/python3.11/site-packages (from ipywidgets==8.1.7) (0.2.2)\n",
      "Requirement already satisfied: ipython>=6.1.0 in /opt/app-root/lib64/python3.11/site-packages (from ipywidgets==8.1.7) (9.3.0)\n",
      "Requirement already satisfied: traitlets>=4.3.1 in /opt/app-root/lib64/python3.11/site-packages (from ipywidgets==8.1.7) (5.14.3)\n",
      "Collecting widgetsnbextension~=4.0.14 (from ipywidgets==8.1.7)\n",
      "  Downloading widgetsnbextension-4.0.14-py3-none-any.whl.metadata (1.6 kB)\n",
      "Collecting jupyterlab_widgets~=3.0.15 (from ipywidgets==8.1.7)\n",
      "  Downloading jupyterlab_widgets-3.0.15-py3-none-any.whl.metadata (20 kB)\n",
      "Requirement already satisfied: python-dateutil>=2.8.2 in /opt/app-root/lib64/python3.11/site-packages (from pandas==2.3.2) (2.9.0.post0)\n",
      "Collecting pytz>=2020.1 (from pandas==2.3.2)\n",
      "  Downloading pytz-2025.2-py2.py3-none-any.whl.metadata (22 kB)\n",
      "Collecting tzdata>=2022.7 (from pandas==2.3.2)\n",
      "  Downloading tzdata-2025.2-py2.py3-none-any.whl.metadata (1.4 kB)\n",
      "Collecting notebook (from jupyter==1.1.1)\n",
      "  Downloading notebook-7.4.5-py3-none-any.whl.metadata (10 kB)\n",
      "Collecting jupyter-console (from jupyter==1.1.1)\n",
      "  Downloading jupyter_console-6.6.3-py3-none-any.whl.metadata (5.8 kB)\n",
      "Requirement already satisfied: nbconvert in /opt/app-root/lib64/python3.11/site-packages (from jupyter==1.1.1) (7.16.6)\n",
      "Requirement already satisfied: ipykernel in /opt/app-root/lib64/python3.11/site-packages (from jupyter==1.1.1) (6.29.5)\n",
      "Requirement already satisfied: jupyterlab in /opt/app-root/lib64/python3.11/site-packages (from jupyter==1.1.1) (4.2.7)\n",
      "Collecting scipy>=1.8.0 (from scikit-learn==1.7.1)\n",
      "  Downloading scipy-1.16.1-cp311-cp311-manylinux2014_x86_64.manylinux_2_17_x86_64.whl.metadata (61 kB)\n",
      "Collecting joblib>=1.2.0 (from scikit-learn==1.7.1)\n",
      "  Downloading joblib-1.5.2-py3-none-any.whl.metadata (5.6 kB)\n",
      "Collecting threadpoolctl>=3.1.0 (from scikit-learn==1.7.1)\n",
      "  Downloading threadpoolctl-3.6.0-py3-none-any.whl.metadata (13 kB)\n",
      "Requirement already satisfied: setuptools>=40.8.0 in /opt/app-root/lib64/python3.11/site-packages (from triton==3.3.0->torch==2.7.0) (75.8.2)\n",
      "Requirement already satisfied: aiohttp!=4.0.0a0,!=4.0.0a1 in /opt/app-root/lib64/python3.11/site-packages (from fsspec[http]>=2021.05.0->evaluate==0.4.5) (3.12.13)\n",
      "Collecting hf-xet<2.0.0,>=1.1.3 (from huggingface-hub<1.0,>=0.34.0->transformers==4.56.1)\n",
      "  Downloading hf_xet-1.1.9-cp37-abi3-manylinux_2_17_x86_64.manylinux2014_x86_64.whl.metadata (4.7 kB)\n",
      "Requirement already satisfied: aiohappyeyeballs>=2.5.0 in /opt/app-root/lib64/python3.11/site-packages (from aiohttp!=4.0.0a0,!=4.0.0a1->fsspec[http]>=2021.05.0->evaluate==0.4.5) (2.6.1)\n",
      "Requirement already satisfied: aiosignal>=1.1.2 in /opt/app-root/lib64/python3.11/site-packages (from aiohttp!=4.0.0a0,!=4.0.0a1->fsspec[http]>=2021.05.0->evaluate==0.4.5) (1.3.2)\n",
      "Requirement already satisfied: attrs>=17.3.0 in /opt/app-root/lib64/python3.11/site-packages (from aiohttp!=4.0.0a0,!=4.0.0a1->fsspec[http]>=2021.05.0->evaluate==0.4.5) (25.3.0)\n",
      "Requirement already satisfied: frozenlist>=1.1.1 in /opt/app-root/lib64/python3.11/site-packages (from aiohttp!=4.0.0a0,!=4.0.0a1->fsspec[http]>=2021.05.0->evaluate==0.4.5) (1.7.0)\n",
      "Requirement already satisfied: multidict<7.0,>=4.5 in /opt/app-root/lib64/python3.11/site-packages (from aiohttp!=4.0.0a0,!=4.0.0a1->fsspec[http]>=2021.05.0->evaluate==0.4.5) (6.5.0)\n",
      "Requirement already satisfied: propcache>=0.2.0 in /opt/app-root/lib64/python3.11/site-packages (from aiohttp!=4.0.0a0,!=4.0.0a1->fsspec[http]>=2021.05.0->evaluate==0.4.5) (0.3.2)\n",
      "Requirement already satisfied: yarl<2.0,>=1.17.0 in /opt/app-root/lib64/python3.11/site-packages (from aiohttp!=4.0.0a0,!=4.0.0a1->fsspec[http]>=2021.05.0->evaluate==0.4.5) (1.20.1)\n",
      "Requirement already satisfied: idna>=2.0 in /opt/app-root/lib64/python3.11/site-packages (from yarl<2.0,>=1.17.0->aiohttp!=4.0.0a0,!=4.0.0a1->fsspec[http]>=2021.05.0->evaluate==0.4.5) (3.10)\n",
      "Requirement already satisfied: decorator in /opt/app-root/lib64/python3.11/site-packages (from ipython>=6.1.0->ipywidgets==8.1.7) (5.2.1)\n",
      "Requirement already satisfied: ipython-pygments-lexers in /opt/app-root/lib64/python3.11/site-packages (from ipython>=6.1.0->ipywidgets==8.1.7) (1.1.1)\n",
      "Requirement already satisfied: jedi>=0.16 in /opt/app-root/lib64/python3.11/site-packages (from ipython>=6.1.0->ipywidgets==8.1.7) (0.19.2)\n",
      "Requirement already satisfied: matplotlib-inline in /opt/app-root/lib64/python3.11/site-packages (from ipython>=6.1.0->ipywidgets==8.1.7) (0.1.7)\n",
      "Requirement already satisfied: pexpect>4.3 in /opt/app-root/lib64/python3.11/site-packages (from ipython>=6.1.0->ipywidgets==8.1.7) (4.9.0)\n",
      "Requirement already satisfied: prompt_toolkit<3.1.0,>=3.0.41 in /opt/app-root/lib64/python3.11/site-packages (from ipython>=6.1.0->ipywidgets==8.1.7) (3.0.51)\n",
      "Requirement already satisfied: pygments>=2.4.0 in /opt/app-root/lib64/python3.11/site-packages (from ipython>=6.1.0->ipywidgets==8.1.7) (2.19.1)\n",
      "Requirement already satisfied: stack_data in /opt/app-root/lib64/python3.11/site-packages (from ipython>=6.1.0->ipywidgets==8.1.7) (0.6.3)\n",
      "Requirement already satisfied: wcwidth in /opt/app-root/lib64/python3.11/site-packages (from prompt_toolkit<3.1.0,>=3.0.41->ipython>=6.1.0->ipywidgets==8.1.7) (0.2.13)\n",
      "Requirement already satisfied: parso<0.9.0,>=0.8.4 in /opt/app-root/lib64/python3.11/site-packages (from jedi>=0.16->ipython>=6.1.0->ipywidgets==8.1.7) (0.8.4)\n",
      "Requirement already satisfied: ptyprocess>=0.5 in /opt/app-root/lib64/python3.11/site-packages (from pexpect>4.3->ipython>=6.1.0->ipywidgets==8.1.7) (0.7.0)\n",
      "Requirement already satisfied: six>=1.5 in /opt/app-root/lib64/python3.11/site-packages (from python-dateutil>=2.8.2->pandas==2.3.2) (1.17.0)\n",
      "Requirement already satisfied: charset_normalizer<4,>=2 in /opt/app-root/lib64/python3.11/site-packages (from requests->transformers==4.56.1) (3.4.2)\n",
      "Requirement already satisfied: urllib3<3,>=1.21.1 in /opt/app-root/lib64/python3.11/site-packages (from requests->transformers==4.56.1) (2.4.0)\n",
      "Requirement already satisfied: certifi>=2017.4.17 in /opt/app-root/lib64/python3.11/site-packages (from requests->transformers==4.56.1) (2025.6.15)\n",
      "Collecting mpmath<1.4,>=1.1.0 (from sympy>=1.13.3->torch==2.7.0)\n",
      "  Downloading mpmath-1.3.0-py3-none-any.whl.metadata (8.6 kB)\n",
      "Collecting torchao (from unsloth_zoo>=2025.9.1->unsloth==2025.9.1)\n",
      "  Downloading torchao-0.13.0-1-cp39-abi3-manylinux_2_24_x86_64.manylinux_2_28_x86_64.whl.metadata (19 kB)\n",
      "Collecting cut_cross_entropy (from unsloth_zoo>=2025.9.1->unsloth==2025.9.1)\n",
      "  Downloading cut_cross_entropy-25.1.1-py3-none-any.whl.metadata (9.3 kB)\n",
      "Collecting pillow (from unsloth_zoo>=2025.9.1->unsloth==2025.9.1)\n",
      "  Downloading pillow-11.3.0-cp311-cp311-manylinux_2_27_x86_64.manylinux_2_28_x86_64.whl.metadata (9.0 kB)\n",
      "Collecting msgspec (from unsloth_zoo>=2025.9.1->unsloth==2025.9.1)\n",
      "  Downloading msgspec-0.19.0-cp311-cp311-manylinux_2_17_x86_64.manylinux2014_x86_64.whl.metadata (6.9 kB)\n",
      "INFO: pip is looking at multiple versions of xformers to determine which version is compatible with other requirements. This could take a while.\n",
      "Collecting xformers>=0.0.27.post2 (from unsloth==2025.9.1)\n",
      "  Downloading xformers-0.0.32.post1-cp39-abi3-manylinux_2_28_x86_64.whl.metadata (1.1 kB)\n",
      "  Downloading xformers-0.0.31.post1-cp39-abi3-manylinux_2_28_x86_64.whl.metadata (1.1 kB)\n",
      "  Downloading xformers-0.0.31-cp39-abi3-manylinux_2_28_x86_64.whl.metadata (1.0 kB)\n",
      "  Downloading xformers-0.0.30-cp311-cp311-manylinux_2_28_x86_64.whl.metadata (1.0 kB)\n",
      "Collecting importlib_metadata (from diffusers->unsloth==2025.9.1)\n",
      "  Downloading importlib_metadata-8.7.0-py3-none-any.whl.metadata (4.8 kB)\n",
      "Collecting zipp>=3.20 (from importlib_metadata->diffusers->unsloth==2025.9.1)\n",
      "  Downloading zipp-3.23.0-py3-none-any.whl.metadata (3.6 kB)\n",
      "Requirement already satisfied: debugpy>=1.6.5 in /opt/app-root/lib64/python3.11/site-packages (from ipykernel->jupyter==1.1.1) (1.8.14)\n",
      "Requirement already satisfied: jupyter-client>=6.1.12 in /opt/app-root/lib64/python3.11/site-packages (from ipykernel->jupyter==1.1.1) (8.6.3)\n",
      "Requirement already satisfied: jupyter-core!=5.0.*,>=4.12 in /opt/app-root/lib64/python3.11/site-packages (from ipykernel->jupyter==1.1.1) (5.8.1)\n",
      "Requirement already satisfied: nest-asyncio in /opt/app-root/lib64/python3.11/site-packages (from ipykernel->jupyter==1.1.1) (1.6.0)\n",
      "Requirement already satisfied: pyzmq>=24 in /opt/app-root/lib64/python3.11/site-packages (from ipykernel->jupyter==1.1.1) (27.0.0)\n",
      "Requirement already satisfied: tornado>=6.1 in /opt/app-root/lib64/python3.11/site-packages (from ipykernel->jupyter==1.1.1) (6.5.1)\n",
      "Requirement already satisfied: platformdirs>=2.5 in /opt/app-root/lib64/python3.11/site-packages (from jupyter-core!=5.0.*,>=4.12->ipykernel->jupyter==1.1.1) (4.3.8)\n",
      "Requirement already satisfied: MarkupSafe>=2.0 in /opt/app-root/lib64/python3.11/site-packages (from jinja2->torch==2.7.0) (3.0.2)\n",
      "Requirement already satisfied: async-lru>=1.0.0 in /opt/app-root/lib64/python3.11/site-packages (from jupyterlab->jupyter==1.1.1) (2.0.5)\n",
      "Requirement already satisfied: httpx>=0.25.0 in /opt/app-root/lib64/python3.11/site-packages (from jupyterlab->jupyter==1.1.1) (0.28.1)\n",
      "Requirement already satisfied: jupyter-lsp>=2.0.0 in /opt/app-root/lib64/python3.11/site-packages (from jupyterlab->jupyter==1.1.1) (2.2.5)\n",
      "Requirement already satisfied: jupyter-server<3,>=2.4.0 in /opt/app-root/lib64/python3.11/site-packages (from jupyterlab->jupyter==1.1.1) (2.15.0)\n",
      "Requirement already satisfied: jupyterlab-server<3,>=2.27.1 in /opt/app-root/lib64/python3.11/site-packages (from jupyterlab->jupyter==1.1.1) (2.27.3)\n",
      "Requirement already satisfied: notebook-shim>=0.2 in /opt/app-root/lib64/python3.11/site-packages (from jupyterlab->jupyter==1.1.1) (0.2.4)\n",
      "Requirement already satisfied: anyio>=3.1.0 in /opt/app-root/lib64/python3.11/site-packages (from jupyter-server<3,>=2.4.0->jupyterlab->jupyter==1.1.1) (4.9.0)\n",
      "Requirement already satisfied: argon2-cffi>=21.1 in /opt/app-root/lib64/python3.11/site-packages (from jupyter-server<3,>=2.4.0->jupyterlab->jupyter==1.1.1) (25.1.0)\n",
      "Requirement already satisfied: jupyter-events>=0.11.0 in /opt/app-root/lib64/python3.11/site-packages (from jupyter-server<3,>=2.4.0->jupyterlab->jupyter==1.1.1) (0.12.0)\n",
      "Requirement already satisfied: jupyter-server-terminals>=0.4.4 in /opt/app-root/lib64/python3.11/site-packages (from jupyter-server<3,>=2.4.0->jupyterlab->jupyter==1.1.1) (0.5.3)\n",
      "Requirement already satisfied: nbformat>=5.3.0 in /opt/app-root/lib64/python3.11/site-packages (from jupyter-server<3,>=2.4.0->jupyterlab->jupyter==1.1.1) (5.10.4)\n",
      "Requirement already satisfied: overrides>=5.0 in /opt/app-root/lib64/python3.11/site-packages (from jupyter-server<3,>=2.4.0->jupyterlab->jupyter==1.1.1) (7.7.0)\n",
      "Requirement already satisfied: prometheus-client>=0.9 in /opt/app-root/lib64/python3.11/site-packages (from jupyter-server<3,>=2.4.0->jupyterlab->jupyter==1.1.1) (0.22.1)\n",
      "Requirement already satisfied: send2trash>=1.8.2 in /opt/app-root/lib64/python3.11/site-packages (from jupyter-server<3,>=2.4.0->jupyterlab->jupyter==1.1.1) (1.8.3)\n",
      "Requirement already satisfied: terminado>=0.8.3 in /opt/app-root/lib64/python3.11/site-packages (from jupyter-server<3,>=2.4.0->jupyterlab->jupyter==1.1.1) (0.18.1)\n",
      "Requirement already satisfied: websocket-client>=1.7 in /opt/app-root/lib64/python3.11/site-packages (from jupyter-server<3,>=2.4.0->jupyterlab->jupyter==1.1.1) (1.8.0)\n",
      "Requirement already satisfied: babel>=2.10 in /opt/app-root/lib64/python3.11/site-packages (from jupyterlab-server<3,>=2.27.1->jupyterlab->jupyter==1.1.1) (2.17.0)\n",
      "Requirement already satisfied: json5>=0.9.0 in /opt/app-root/lib64/python3.11/site-packages (from jupyterlab-server<3,>=2.27.1->jupyterlab->jupyter==1.1.1) (0.12.0)\n",
      "Requirement already satisfied: jsonschema>=4.18.0 in /opt/app-root/lib64/python3.11/site-packages (from jupyterlab-server<3,>=2.27.1->jupyterlab->jupyter==1.1.1) (4.24.0)\n",
      "Requirement already satisfied: sniffio>=1.1 in /opt/app-root/lib64/python3.11/site-packages (from anyio>=3.1.0->jupyter-server<3,>=2.4.0->jupyterlab->jupyter==1.1.1) (1.3.1)\n",
      "Requirement already satisfied: argon2-cffi-bindings in /opt/app-root/lib64/python3.11/site-packages (from argon2-cffi>=21.1->jupyter-server<3,>=2.4.0->jupyterlab->jupyter==1.1.1) (21.2.0)\n",
      "Requirement already satisfied: httpcore==1.* in /opt/app-root/lib64/python3.11/site-packages (from httpx>=0.25.0->jupyterlab->jupyter==1.1.1) (1.0.9)\n",
      "Requirement already satisfied: h11>=0.16 in /opt/app-root/lib64/python3.11/site-packages (from httpcore==1.*->httpx>=0.25.0->jupyterlab->jupyter==1.1.1) (0.16.0)\n",
      "Requirement already satisfied: jsonschema-specifications>=2023.03.6 in /opt/app-root/lib64/python3.11/site-packages (from jsonschema>=4.18.0->jupyterlab-server<3,>=2.27.1->jupyterlab->jupyter==1.1.1) (2025.4.1)\n",
      "Requirement already satisfied: referencing>=0.28.4 in /opt/app-root/lib64/python3.11/site-packages (from jsonschema>=4.18.0->jupyterlab-server<3,>=2.27.1->jupyterlab->jupyter==1.1.1) (0.36.2)\n",
      "Requirement already satisfied: rpds-py>=0.7.1 in /opt/app-root/lib64/python3.11/site-packages (from jsonschema>=4.18.0->jupyterlab-server<3,>=2.27.1->jupyterlab->jupyter==1.1.1) (0.25.1)\n",
      "Requirement already satisfied: python-json-logger>=2.0.4 in /opt/app-root/lib64/python3.11/site-packages (from jupyter-events>=0.11.0->jupyter-server<3,>=2.4.0->jupyterlab->jupyter==1.1.1) (3.3.0)\n",
      "Requirement already satisfied: rfc3339-validator in /opt/app-root/lib64/python3.11/site-packages (from jupyter-events>=0.11.0->jupyter-server<3,>=2.4.0->jupyterlab->jupyter==1.1.1) (0.1.4)\n",
      "Requirement already satisfied: rfc3986-validator>=0.1.1 in /opt/app-root/lib64/python3.11/site-packages (from jupyter-events>=0.11.0->jupyter-server<3,>=2.4.0->jupyterlab->jupyter==1.1.1) (0.1.1)\n",
      "Requirement already satisfied: fqdn in /opt/app-root/lib64/python3.11/site-packages (from jsonschema[format-nongpl]>=4.18.0->jupyter-events>=0.11.0->jupyter-server<3,>=2.4.0->jupyterlab->jupyter==1.1.1) (1.5.1)\n",
      "Requirement already satisfied: isoduration in /opt/app-root/lib64/python3.11/site-packages (from jsonschema[format-nongpl]>=4.18.0->jupyter-events>=0.11.0->jupyter-server<3,>=2.4.0->jupyterlab->jupyter==1.1.1) (20.11.0)\n",
      "Requirement already satisfied: jsonpointer>1.13 in /opt/app-root/lib64/python3.11/site-packages (from jsonschema[format-nongpl]>=4.18.0->jupyter-events>=0.11.0->jupyter-server<3,>=2.4.0->jupyterlab->jupyter==1.1.1) (3.0.0)\n",
      "Requirement already satisfied: uri-template in /opt/app-root/lib64/python3.11/site-packages (from jsonschema[format-nongpl]>=4.18.0->jupyter-events>=0.11.0->jupyter-server<3,>=2.4.0->jupyterlab->jupyter==1.1.1) (1.3.0)\n",
      "Requirement already satisfied: webcolors>=24.6.0 in /opt/app-root/lib64/python3.11/site-packages (from jsonschema[format-nongpl]>=4.18.0->jupyter-events>=0.11.0->jupyter-server<3,>=2.4.0->jupyterlab->jupyter==1.1.1) (24.11.1)\n",
      "Requirement already satisfied: beautifulsoup4 in /opt/app-root/lib64/python3.11/site-packages (from nbconvert->jupyter==1.1.1) (4.13.4)\n",
      "Requirement already satisfied: bleach!=5.0.0 in /opt/app-root/lib64/python3.11/site-packages (from bleach[css]!=5.0.0->nbconvert->jupyter==1.1.1) (6.2.0)\n",
      "Requirement already satisfied: defusedxml in /opt/app-root/lib64/python3.11/site-packages (from nbconvert->jupyter==1.1.1) (0.7.1)\n",
      "Requirement already satisfied: jupyterlab-pygments in /opt/app-root/lib64/python3.11/site-packages (from nbconvert->jupyter==1.1.1) (0.3.0)\n",
      "Requirement already satisfied: mistune<4,>=2.0.3 in /opt/app-root/lib64/python3.11/site-packages (from nbconvert->jupyter==1.1.1) (3.1.3)\n",
      "Requirement already satisfied: nbclient>=0.5.0 in /opt/app-root/lib64/python3.11/site-packages (from nbconvert->jupyter==1.1.1) (0.10.2)\n",
      "Requirement already satisfied: pandocfilters>=1.4.1 in /opt/app-root/lib64/python3.11/site-packages (from nbconvert->jupyter==1.1.1) (1.5.1)\n",
      "Requirement already satisfied: webencodings in /opt/app-root/lib64/python3.11/site-packages (from bleach!=5.0.0->bleach[css]!=5.0.0->nbconvert->jupyter==1.1.1) (0.5.1)\n",
      "Requirement already satisfied: tinycss2<1.5,>=1.1.0 in /opt/app-root/lib64/python3.11/site-packages (from bleach[css]!=5.0.0->nbconvert->jupyter==1.1.1) (1.4.0)\n",
      "Requirement already satisfied: fastjsonschema>=2.15 in /opt/app-root/lib64/python3.11/site-packages (from nbformat>=5.3.0->jupyter-server<3,>=2.4.0->jupyterlab->jupyter==1.1.1) (2.21.1)\n",
      "Requirement already satisfied: cffi>=1.0.1 in /opt/app-root/lib64/python3.11/site-packages (from argon2-cffi-bindings->argon2-cffi>=21.1->jupyter-server<3,>=2.4.0->jupyterlab->jupyter==1.1.1) (1.17.1)\n",
      "Requirement already satisfied: pycparser in /opt/app-root/lib64/python3.11/site-packages (from cffi>=1.0.1->argon2-cffi-bindings->argon2-cffi>=21.1->jupyter-server<3,>=2.4.0->jupyterlab->jupyter==1.1.1) (2.22)\n",
      "Requirement already satisfied: soupsieve>1.2 in /opt/app-root/lib64/python3.11/site-packages (from beautifulsoup4->nbconvert->jupyter==1.1.1) (2.7)\n",
      "Requirement already satisfied: arrow>=0.15.0 in /opt/app-root/lib64/python3.11/site-packages (from isoduration->jsonschema[format-nongpl]>=4.18.0->jupyter-events>=0.11.0->jupyter-server<3,>=2.4.0->jupyterlab->jupyter==1.1.1) (1.3.0)\n",
      "Requirement already satisfied: types-python-dateutil>=2.8.10 in /opt/app-root/lib64/python3.11/site-packages (from arrow>=0.15.0->isoduration->jsonschema[format-nongpl]>=4.18.0->jupyter-events>=0.11.0->jupyter-server<3,>=2.4.0->jupyterlab->jupyter==1.1.1) (2.9.0.20250516)\n",
      "Collecting jupyterlab (from jupyter==1.1.1)\n",
      "  Downloading jupyterlab-4.4.7-py3-none-any.whl.metadata (16 kB)\n",
      "Requirement already satisfied: executing>=1.2.0 in /opt/app-root/lib64/python3.11/site-packages (from stack_data->ipython>=6.1.0->ipywidgets==8.1.7) (2.2.0)\n",
      "Requirement already satisfied: asttokens>=2.1.0 in /opt/app-root/lib64/python3.11/site-packages (from stack_data->ipython>=6.1.0->ipywidgets==8.1.7) (3.0.0)\n",
      "Requirement already satisfied: pure-eval in /opt/app-root/lib64/python3.11/site-packages (from stack_data->ipython>=6.1.0->ipywidgets==8.1.7) (0.2.3)\n",
      "INFO: pip is looking at multiple versions of torchvision to determine which version is compatible with other requirements. This could take a while.\n",
      "Collecting torchvision (from unsloth==2025.9.1)\n",
      "  Downloading torchvision-0.22.1-cp311-cp311-manylinux_2_28_x86_64.whl.metadata (6.1 kB)\n",
      "  Downloading torchvision-0.22.0-cp311-cp311-manylinux_2_28_x86_64.whl.metadata (6.1 kB)\n",
      "Collecting docstring-parser>=0.15 (from tyro->unsloth==2025.9.1)\n",
      "  Downloading docstring_parser-0.17.0-py3-none-any.whl.metadata (3.5 kB)\n",
      "Collecting rich>=11.1.0 (from tyro->unsloth==2025.9.1)\n",
      "  Downloading rich-14.1.0-py3-none-any.whl.metadata (18 kB)\n",
      "Collecting shtab>=1.5.6 (from tyro->unsloth==2025.9.1)\n",
      "  Downloading shtab-1.7.2-py3-none-any.whl.metadata (7.4 kB)\n",
      "Collecting typeguard>=4.0.0 (from tyro->unsloth==2025.9.1)\n",
      "  Downloading typeguard-4.4.4-py3-none-any.whl.metadata (3.3 kB)\n",
      "Collecting markdown-it-py>=2.2.0 (from rich>=11.1.0->tyro->unsloth==2025.9.1)\n",
      "  Downloading markdown_it_py-4.0.0-py3-none-any.whl.metadata (7.3 kB)\n",
      "Collecting mdurl~=0.1 (from markdown-it-py>=2.2.0->rich>=11.1.0->tyro->unsloth==2025.9.1)\n",
      "  Downloading mdurl-0.1.2-py3-none-any.whl.metadata (1.6 kB)\n",
      "Downloading transformers-4.56.1-py3-none-any.whl (11.6 MB)\n",
      "\u001b[2K   \u001b[90m━━━━━━━━━━━━━━━━━━━━━━━━━━━━━━━━━━━━━━━━\u001b[0m \u001b[32m11.6/11.6 MB\u001b[0m \u001b[31m135.7 MB/s\u001b[0m  \u001b[33m0:00:00\u001b[0m\n",
      "\u001b[?25hDownloading evaluate-0.4.5-py3-none-any.whl (84 kB)\n",
      "Downloading torch-2.7.0-cp311-cp311-manylinux_2_28_x86_64.whl (865.2 MB)\n",
      "\u001b[2K   \u001b[90m━━━━━━━━━━━━━━━━━━━━━━━━━━━━━━━━━━━━━━━━\u001b[0m \u001b[32m865.2/865.2 MB\u001b[0m \u001b[31m310.1 MB/s\u001b[0m  \u001b[33m0:00:02\u001b[0meta \u001b[36m0:00:01\u001b[0m\n",
      "\u001b[?25hDownloading unsloth-2025.9.1-py3-none-any.whl (313 kB)\n",
      "Downloading datasets-3.6.0-py3-none-any.whl (491 kB)\n",
      "Downloading ipywidgets-8.1.7-py3-none-any.whl (139 kB)\n",
      "Downloading numpy-2.3.2-cp311-cp311-manylinux_2_27_x86_64.manylinux_2_28_x86_64.whl (16.9 MB)\n",
      "\u001b[2K   \u001b[90m━━━━━━━━━━━━━━━━━━━━━━━━━━━━━━━━━━━━━━━━\u001b[0m \u001b[32m16.9/16.9 MB\u001b[0m \u001b[31m482.5 MB/s\u001b[0m  \u001b[33m0:00:00\u001b[0m\n",
      "\u001b[?25hDownloading pandas-2.3.2-cp311-cp311-manylinux_2_17_x86_64.manylinux2014_x86_64.whl (12.4 MB)\n",
      "\u001b[2K   \u001b[90m━━━━━━━━━━━━━━━━━━━━━━━━━━━━━━━━━━━━━━━━\u001b[0m \u001b[32m12.4/12.4 MB\u001b[0m \u001b[31m498.7 MB/s\u001b[0m  \u001b[33m0:00:00\u001b[0m\n",
      "\u001b[?25hDownloading jupyter-1.1.1-py2.py3-none-any.whl (2.7 kB)\n",
      "Downloading scikit_learn-1.7.1-cp311-cp311-manylinux2014_x86_64.manylinux_2_17_x86_64.whl (9.7 MB)\n",
      "\u001b[2K   \u001b[90m━━━━━━━━━━━━━━━━━━━━━━━━━━━━━━━━━━━━━━━━\u001b[0m \u001b[32m9.7/9.7 MB\u001b[0m \u001b[31m494.5 MB/s\u001b[0m  \u001b[33m0:00:00\u001b[0m\n",
      "\u001b[?25hDownloading nvidia_cublas_cu12-12.6.4.1-py3-none-manylinux2014_x86_64.manylinux_2_17_x86_64.whl (393.1 MB)\n",
      "\u001b[2K   \u001b[90m━━━━━━━━━━━━━━━━━━━━━━━━━━━━━━━━━━━━━━━━\u001b[0m \u001b[32m393.1/393.1 MB\u001b[0m \u001b[31m480.4 MB/s\u001b[0m  \u001b[33m0:00:00\u001b[0meta \u001b[36m0:00:01\u001b[0m\n",
      "\u001b[?25hDownloading nvidia_cuda_cupti_cu12-12.6.80-py3-none-manylinux2014_x86_64.manylinux_2_17_x86_64.whl (8.9 MB)\n",
      "\u001b[2K   \u001b[90m━━━━━━━━━━━━━━━━━━━━━━━━━━━━━━━━━━━━━━━━\u001b[0m \u001b[32m8.9/8.9 MB\u001b[0m \u001b[31m535.1 MB/s\u001b[0m  \u001b[33m0:00:00\u001b[0m\n",
      "\u001b[?25hDownloading nvidia_cuda_nvrtc_cu12-12.6.77-py3-none-manylinux2014_x86_64.whl (23.7 MB)\n",
      "\u001b[2K   \u001b[90m━━━━━━━━━━━━━━━━━━━━━━━━━━━━━━━━━━━━━━━━\u001b[0m \u001b[32m23.7/23.7 MB\u001b[0m \u001b[31m322.3 MB/s\u001b[0m  \u001b[33m0:00:00\u001b[0m\n",
      "\u001b[?25hDownloading nvidia_cuda_runtime_cu12-12.6.77-py3-none-manylinux2014_x86_64.manylinux_2_17_x86_64.whl (897 kB)\n",
      "\u001b[2K   \u001b[90m━━━━━━━━━━━━━━━━━━━━━━━━━━━━━━━━━━━━━━━━\u001b[0m \u001b[32m897.7/897.7 kB\u001b[0m \u001b[31m714.0 MB/s\u001b[0m  \u001b[33m0:00:00\u001b[0m\n",
      "\u001b[?25hDownloading nvidia_cudnn_cu12-9.5.1.17-py3-none-manylinux_2_28_x86_64.whl (571.0 MB)\n",
      "\u001b[2K   \u001b[90m━━━━━━━━━━━━━━━━━━━━━━━━━━━━━━━━━━━━━━━━\u001b[0m \u001b[32m571.0/571.0 MB\u001b[0m \u001b[31m540.9 MB/s\u001b[0m  \u001b[33m0:00:01\u001b[0meta \u001b[36m0:00:01\u001b[0m\n",
      "\u001b[?25hDownloading nvidia_cufft_cu12-11.3.0.4-py3-none-manylinux2014_x86_64.manylinux_2_17_x86_64.whl (200.2 MB)\n",
      "\u001b[2K   \u001b[90m━━━━━━━━━━━━━━━━━━━━━━━━━━━━━━━━━━━━━━━━\u001b[0m \u001b[32m200.2/200.2 MB\u001b[0m \u001b[31m356.7 MB/s\u001b[0m  \u001b[33m0:00:00\u001b[0meta \u001b[36m0:00:01\u001b[0m\n",
      "\u001b[?25hDownloading nvidia_cufile_cu12-1.11.1.6-py3-none-manylinux2014_x86_64.manylinux_2_17_x86_64.whl (1.1 MB)\n",
      "\u001b[2K   \u001b[90m━━━━━━━━━━━━━━━━━━━━━━━━━━━━━━━━━━━━━━━━\u001b[0m \u001b[32m1.1/1.1 MB\u001b[0m \u001b[31m689.1 MB/s\u001b[0m  \u001b[33m0:00:00\u001b[0m\n",
      "\u001b[?25hDownloading nvidia_curand_cu12-10.3.7.77-py3-none-manylinux2014_x86_64.manylinux_2_17_x86_64.whl (56.3 MB)\n",
      "\u001b[2K   \u001b[90m━━━━━━━━━━━━━━━━━━━━━━━━━━━━━━━━━━━━━━━━\u001b[0m \u001b[32m56.3/56.3 MB\u001b[0m \u001b[31m447.8 MB/s\u001b[0m  \u001b[33m0:00:00\u001b[0m\n",
      "\u001b[?25hDownloading nvidia_cusolver_cu12-11.7.1.2-py3-none-manylinux2014_x86_64.manylinux_2_17_x86_64.whl (158.2 MB)\n",
      "\u001b[2K   \u001b[90m━━━━━━━━━━━━━━━━━━━━━━━━━━━━━━━━━━━━━━━━\u001b[0m \u001b[32m158.2/158.2 MB\u001b[0m \u001b[31m472.1 MB/s\u001b[0m  \u001b[33m0:00:00\u001b[0meta \u001b[36m0:00:01\u001b[0m\n",
      "\u001b[?25hDownloading nvidia_cusparse_cu12-12.5.4.2-py3-none-manylinux2014_x86_64.manylinux_2_17_x86_64.whl (216.6 MB)\n",
      "\u001b[2K   \u001b[90m━━━━━━━━━━━━━━━━━━━━━━━━━━━━━━━━━━━━━━━━\u001b[0m \u001b[32m216.6/216.6 MB\u001b[0m \u001b[31m468.7 MB/s\u001b[0m  \u001b[33m0:00:00\u001b[0meta \u001b[36m0:00:01\u001b[0m\n",
      "\u001b[?25hDownloading nvidia_cusparselt_cu12-0.6.3-py3-none-manylinux2014_x86_64.whl (156.8 MB)\n",
      "\u001b[2K   \u001b[90m━━━━━━━━━━━━━━━━━━━━━━━━━━━━━━━━━━━━━━━━\u001b[0m \u001b[32m156.8/156.8 MB\u001b[0m \u001b[31m431.8 MB/s\u001b[0m  \u001b[33m0:00:00\u001b[0meta \u001b[36m0:00:01\u001b[0m\n",
      "\u001b[?25hDownloading nvidia_nccl_cu12-2.26.2-py3-none-manylinux2014_x86_64.manylinux_2_17_x86_64.whl (201.3 MB)\n",
      "\u001b[2K   \u001b[90m━━━━━━━━━━━━━━━━━━━━━━━━━━━━━━━━━━━━━━━━\u001b[0m \u001b[32m201.3/201.3 MB\u001b[0m \u001b[31m435.1 MB/s\u001b[0m  \u001b[33m0:00:00\u001b[0meta \u001b[36m0:00:01\u001b[0m\n",
      "\u001b[?25hDownloading nvidia_nvjitlink_cu12-12.6.85-py3-none-manylinux2010_x86_64.manylinux_2_12_x86_64.whl (19.7 MB)\n",
      "\u001b[2K   \u001b[90m━━━━━━━━━━━━━━━━━━━━━━━━━━━━━━━━━━━━━━━━\u001b[0m \u001b[32m19.7/19.7 MB\u001b[0m \u001b[31m490.7 MB/s\u001b[0m  \u001b[33m0:00:00\u001b[0m\n",
      "\u001b[?25hDownloading nvidia_nvtx_cu12-12.6.77-py3-none-manylinux2014_x86_64.manylinux_2_17_x86_64.whl (89 kB)\n",
      "Downloading triton-3.3.0-cp311-cp311-manylinux_2_27_x86_64.manylinux_2_28_x86_64.whl (156.5 MB)\n",
      "\u001b[2K   \u001b[90m━━━━━━━━━━━━━━━━━━━━━━━━━━━━━━━━━━━━━━━━\u001b[0m \u001b[32m156.5/156.5 MB\u001b[0m \u001b[31m278.2 MB/s\u001b[0m  \u001b[33m0:00:00\u001b[0meta \u001b[36m0:00:01\u001b[0m\n",
      "\u001b[?25hDownloading dill-0.3.8-py3-none-any.whl (116 kB)\n",
      "Downloading fsspec-2025.3.0-py3-none-any.whl (193 kB)\n",
      "Downloading huggingface_hub-0.34.4-py3-none-any.whl (561 kB)\n",
      "\u001b[2K   \u001b[90m━━━━━━━━━━━━━━━━━━━━━━━━━━━━━━━━━━━━━━━━\u001b[0m \u001b[32m561.5/561.5 kB\u001b[0m \u001b[31m689.8 MB/s\u001b[0m  \u001b[33m0:00:00\u001b[0m\n",
      "\u001b[?25hDownloading hf_xet-1.1.9-cp37-abi3-manylinux_2_17_x86_64.manylinux2014_x86_64.whl (3.2 MB)\n",
      "\u001b[2K   \u001b[90m━━━━━━━━━━━━━━━━━━━━━━━━━━━━━━━━━━━━━━━━\u001b[0m \u001b[32m3.2/3.2 MB\u001b[0m \u001b[31m548.0 MB/s\u001b[0m  \u001b[33m0:00:00\u001b[0m\n",
      "\u001b[?25hDownloading jupyterlab_widgets-3.0.15-py3-none-any.whl (216 kB)\n",
      "Downloading multiprocess-0.70.16-py311-none-any.whl (143 kB)\n",
      "Downloading tokenizers-0.22.0-cp39-abi3-manylinux_2_17_x86_64.manylinux2014_x86_64.whl (3.3 MB)\n",
      "\u001b[2K   \u001b[90m━━━━━━━━━━━━━━━━━━━━━━━━━━━━━━━━━━━━━━━━\u001b[0m \u001b[32m3.3/3.3 MB\u001b[0m \u001b[31m527.6 MB/s\u001b[0m  \u001b[33m0:00:00\u001b[0m\n",
      "\u001b[?25hDownloading widgetsnbextension-4.0.14-py3-none-any.whl (2.2 MB)\n",
      "\u001b[2K   \u001b[90m━━━━━━━━━━━━━━━━━━━━━━━━━━━━━━━━━━━━━━━━\u001b[0m \u001b[32m2.2/2.2 MB\u001b[0m \u001b[31m588.4 MB/s\u001b[0m  \u001b[33m0:00:00\u001b[0m\n",
      "\u001b[?25hDownloading accelerate-1.10.1-py3-none-any.whl (374 kB)\n",
      "Downloading joblib-1.5.2-py3-none-any.whl (308 kB)\n",
      "Downloading peft-0.17.1-py3-none-any.whl (504 kB)\n",
      "Downloading pyarrow-21.0.0-cp311-cp311-manylinux_2_28_x86_64.whl (42.8 MB)\n",
      "\u001b[2K   \u001b[90m━━━━━━━━━━━━━━━━━━━━━━━━━━━━━━━━━━━━━━━━\u001b[0m \u001b[32m42.8/42.8 MB\u001b[0m \u001b[31m488.1 MB/s\u001b[0m  \u001b[33m0:00:00\u001b[0m\n",
      "\u001b[?25hDownloading pytz-2025.2-py2.py3-none-any.whl (509 kB)\n",
      "Downloading regex-2025.9.1-cp311-cp311-manylinux2014_x86_64.manylinux_2_17_x86_64.manylinux_2_28_x86_64.whl (798 kB)\n",
      "\u001b[2K   \u001b[90m━━━━━━━━━━━━━━━━━━━━━━━━━━━━━━━━━━━━━━━━\u001b[0m \u001b[32m799.0/799.0 kB\u001b[0m \u001b[31m700.4 MB/s\u001b[0m  \u001b[33m0:00:00\u001b[0m\n",
      "\u001b[?25hDownloading safetensors-0.6.2-cp38-abi3-manylinux_2_17_x86_64.manylinux2014_x86_64.whl (485 kB)\n",
      "Downloading scipy-1.16.1-cp311-cp311-manylinux2014_x86_64.manylinux_2_17_x86_64.whl (35.4 MB)\n",
      "\u001b[2K   \u001b[90m━━━━━━━━━━━━━━━━━━━━━━━━━━━━━━━━━━━━━━━━\u001b[0m \u001b[32m35.4/35.4 MB\u001b[0m \u001b[31m468.3 MB/s\u001b[0m  \u001b[33m0:00:00\u001b[0m\n",
      "\u001b[?25hDownloading sentencepiece-0.2.1-cp311-cp311-manylinux_2_27_x86_64.manylinux_2_28_x86_64.whl (1.4 MB)\n",
      "\u001b[2K   \u001b[90m━━━━━━━━━━━━━━━━━━━━━━━━━━━━━━━━━━━━━━━━\u001b[0m \u001b[32m1.4/1.4 MB\u001b[0m \u001b[31m604.4 MB/s\u001b[0m  \u001b[33m0:00:00\u001b[0m\n",
      "\u001b[?25hDownloading sympy-1.14.0-py3-none-any.whl (6.3 MB)\n",
      "\u001b[2K   \u001b[90m━━━━━━━━━━━━━━━━━━━━━━━━━━━━━━━━━━━━━━━━\u001b[0m \u001b[32m6.3/6.3 MB\u001b[0m \u001b[31m543.4 MB/s\u001b[0m  \u001b[33m0:00:00\u001b[0m\n",
      "\u001b[?25hDownloading mpmath-1.3.0-py3-none-any.whl (536 kB)\n",
      "\u001b[2K   \u001b[90m━━━━━━━━━━━━━━━━━━━━━━━━━━━━━━━━━━━━━━━━\u001b[0m \u001b[32m536.2/536.2 kB\u001b[0m \u001b[31m681.7 MB/s\u001b[0m  \u001b[33m0:00:00\u001b[0m\n",
      "\u001b[?25hDownloading threadpoolctl-3.6.0-py3-none-any.whl (18 kB)\n",
      "Downloading tqdm-4.67.1-py3-none-any.whl (78 kB)\n",
      "Downloading trl-0.22.2-py3-none-any.whl (544 kB)\n",
      "\u001b[2K   \u001b[90m━━━━━━━━━━━━━━━━━━━━━━━━━━━━━━━━━━━━━━━━\u001b[0m \u001b[32m544.8/544.8 kB\u001b[0m \u001b[31m535.2 MB/s\u001b[0m  \u001b[33m0:00:00\u001b[0m\n",
      "\u001b[?25hDownloading tzdata-2025.2-py2.py3-none-any.whl (347 kB)\n",
      "Downloading unsloth_zoo-2025.9.2-py3-none-any.whl (197 kB)\n",
      "Downloading xformers-0.0.30-cp311-cp311-manylinux_2_28_x86_64.whl (31.5 MB)\n",
      "\u001b[2K   \u001b[90m━━━━━━━━━━━━━━━━━━━━━━━━━━━━━━━━━━━━━━━━\u001b[0m \u001b[32m31.5/31.5 MB\u001b[0m \u001b[31m284.3 MB/s\u001b[0m  \u001b[33m0:00:00\u001b[0m\n",
      "\u001b[?25hDownloading bitsandbytes-0.47.0-py3-none-manylinux_2_24_x86_64.whl (61.3 MB)\n",
      "\u001b[2K   \u001b[90m━━━━━━━━━━━━━━━━━━━━━━━━━━━━━━━━━━━━━━━━\u001b[0m \u001b[32m61.3/61.3 MB\u001b[0m \u001b[31m319.8 MB/s\u001b[0m  \u001b[33m0:00:00\u001b[0m\n",
      "\u001b[?25hDownloading cut_cross_entropy-25.1.1-py3-none-any.whl (22 kB)\n",
      "Downloading diffusers-0.35.1-py3-none-any.whl (4.1 MB)\n",
      "\u001b[2K   \u001b[90m━━━━━━━━━━━━━━━━━━━━━━━━━━━━━━━━━━━━━━━━\u001b[0m \u001b[32m4.1/4.1 MB\u001b[0m \u001b[31m369.3 MB/s\u001b[0m  \u001b[33m0:00:00\u001b[0m\n",
      "\u001b[?25hDownloading filelock-3.19.1-py3-none-any.whl (15 kB)\n",
      "Downloading hf_transfer-0.1.9-cp38-abi3-manylinux_2_17_x86_64.manylinux2014_x86_64.whl (3.6 MB)\n",
      "\u001b[2K   \u001b[90m━━━━━━━━━━━━━━━━━━━━━━━━━━━━━━━━━━━━━━━━\u001b[0m \u001b[32m3.6/3.6 MB\u001b[0m \u001b[31m302.9 MB/s\u001b[0m  \u001b[33m0:00:00\u001b[0m\n",
      "\u001b[?25hDownloading importlib_metadata-8.7.0-py3-none-any.whl (27 kB)\n",
      "Downloading zipp-3.23.0-py3-none-any.whl (10 kB)\n",
      "Downloading jupyter_console-6.6.3-py3-none-any.whl (24 kB)\n",
      "Downloading msgspec-0.19.0-cp311-cp311-manylinux_2_17_x86_64.manylinux2014_x86_64.whl (210 kB)\n",
      "Downloading networkx-3.5-py3-none-any.whl (2.0 MB)\n",
      "\u001b[2K   \u001b[90m━━━━━━━━━━━━━━━━━━━━━━━━━━━━━━━━━━━━━━━━\u001b[0m \u001b[32m2.0/2.0 MB\u001b[0m \u001b[31m615.0 MB/s\u001b[0m  \u001b[33m0:00:00\u001b[0m\n",
      "\u001b[?25hDownloading notebook-7.4.5-py3-none-any.whl (14.3 MB)\n",
      "\u001b[2K   \u001b[90m━━━━━━━━━━━━━━━━━━━━━━━━━━━━━━━━━━━━━━━━\u001b[0m \u001b[32m14.3/14.3 MB\u001b[0m \u001b[31m501.4 MB/s\u001b[0m  \u001b[33m0:00:00\u001b[0m\n",
      "\u001b[?25hDownloading jupyterlab-4.4.7-py3-none-any.whl (12.3 MB)\n",
      "\u001b[2K   \u001b[90m━━━━━━━━━━━━━━━━━━━━━━━━━━━━━━━━━━━━━━━━\u001b[0m \u001b[32m12.3/12.3 MB\u001b[0m \u001b[31m491.2 MB/s\u001b[0m  \u001b[33m0:00:00\u001b[0m\n",
      "\u001b[?25hDownloading pillow-11.3.0-cp311-cp311-manylinux_2_27_x86_64.manylinux_2_28_x86_64.whl (6.6 MB)\n",
      "\u001b[2K   \u001b[90m━━━━━━━━━━━━━━━━━━━━━━━━━━━━━━━━━━━━━━━━\u001b[0m \u001b[32m6.6/6.6 MB\u001b[0m \u001b[31m501.2 MB/s\u001b[0m  \u001b[33m0:00:00\u001b[0m\n",
      "\u001b[?25hDownloading protobuf-6.32.0-cp39-abi3-manylinux2014_x86_64.whl (322 kB)\n",
      "Downloading torchao-0.13.0-1-cp39-abi3-manylinux_2_24_x86_64.manylinux_2_28_x86_64.whl (6.9 MB)\n",
      "\u001b[2K   \u001b[90m━━━━━━━━━━━━━━━━━━━━━━━━━━━━━━━━━━━━━━━━\u001b[0m \u001b[32m6.9/6.9 MB\u001b[0m \u001b[31m305.2 MB/s\u001b[0m  \u001b[33m0:00:00\u001b[0m\n",
      "\u001b[?25hDownloading torchvision-0.22.0-cp311-cp311-manylinux_2_28_x86_64.whl (7.4 MB)\n",
      "\u001b[2K   \u001b[90m━━━━━━━━━━━━━━━━━━━━━━━━━━━━━━━━━━━━━━━━\u001b[0m \u001b[32m7.4/7.4 MB\u001b[0m \u001b[31m275.9 MB/s\u001b[0m  \u001b[33m0:00:00\u001b[0m\n",
      "\u001b[?25hDownloading tyro-0.9.31-py3-none-any.whl (131 kB)\n",
      "Downloading docstring_parser-0.17.0-py3-none-any.whl (36 kB)\n",
      "Downloading rich-14.1.0-py3-none-any.whl (243 kB)\n",
      "Downloading markdown_it_py-4.0.0-py3-none-any.whl (87 kB)\n",
      "Downloading mdurl-0.1.2-py3-none-any.whl (10.0 kB)\n",
      "Downloading shtab-1.7.2-py3-none-any.whl (14 kB)\n",
      "Downloading typeguard-4.4.4-py3-none-any.whl (34 kB)\n",
      "Downloading xxhash-3.5.0-cp311-cp311-manylinux_2_17_x86_64.manylinux2014_x86_64.whl (194 kB)\n",
      "Installing collected packages: torchao, pytz, nvidia-cusparselt-cu12, mpmath, zipp, xxhash, widgetsnbextension, tzdata, typeguard, triton, tqdm, threadpoolctl, sympy, shtab, sentencepiece, safetensors, regex, pyarrow, protobuf, pillow, nvidia-nvtx-cu12, nvidia-nvjitlink-cu12, nvidia-nccl-cu12, nvidia-curand-cu12, nvidia-cufile-cu12, nvidia-cuda-runtime-cu12, nvidia-cuda-nvrtc-cu12, nvidia-cuda-cupti-cu12, nvidia-cublas-cu12, numpy, networkx, msgspec, mdurl, jupyterlab_widgets, joblib, hf-xet, hf_transfer, fsspec, filelock, docstring-parser, dill, scipy, pandas, nvidia-cusparse-cu12, nvidia-cufft-cu12, nvidia-cudnn-cu12, multiprocess, markdown-it-py, importlib_metadata, huggingface-hub, tokenizers, scikit-learn, rich, nvidia-cusolver-cu12, ipywidgets, diffusers, tyro, transformers, torch, jupyter-console, datasets, xformers, torchvision, evaluate, cut_cross_entropy, bitsandbytes, accelerate, trl, peft, unsloth_zoo, unsloth, jupyterlab, notebook, jupyter\n",
      "\u001b[2K  Attempting uninstall: jupyterlab━━━━━━━━━━━\u001b[0m\u001b[91m╸\u001b[0m\u001b[90m━━\u001b[0m \u001b[32m70/74\u001b[0m [unsloth]te]s]er-cu12]2]\n",
      "\u001b[2K    Found existing installation: jupyterlab 4.2.7m╸\u001b[0m\u001b[90m━━\u001b[0m \u001b[32m70/74\u001b[0m [unsloth]\n",
      "\u001b[2K    Uninstalling jupyterlab-4.2.7:━━━━━━━━━━━━\u001b[0m\u001b[90m╺\u001b[0m\u001b[90m━\u001b[0m \u001b[32m71/74\u001b[0m [jupyterlab]\n",
      "\u001b[2K      Successfully uninstalled jupyterlab-4.2.7[0m\u001b[90m╺\u001b[0m\u001b[90m━\u001b[0m \u001b[32m71/74\u001b[0m [jupyterlab]\n",
      "\u001b[2K   \u001b[90m━━━━━━━━━━━━━━━━━━━━━━━━━━━━━━━━━━━━━━━━\u001b[0m \u001b[32m74/74\u001b[0m [jupyter]2/74\u001b[0m [notebook]b]\n",
      "\u001b[1A\u001b[2KSuccessfully installed accelerate-1.10.1 bitsandbytes-0.47.0 cut_cross_entropy-25.1.1 datasets-3.6.0 diffusers-0.35.1 dill-0.3.8 docstring-parser-0.17.0 evaluate-0.4.5 filelock-3.19.1 fsspec-2025.3.0 hf-xet-1.1.9 hf_transfer-0.1.9 huggingface-hub-0.34.4 importlib_metadata-8.7.0 ipywidgets-8.1.7 joblib-1.5.2 jupyter-1.1.1 jupyter-console-6.6.3 jupyterlab-4.4.7 jupyterlab_widgets-3.0.15 markdown-it-py-4.0.0 mdurl-0.1.2 mpmath-1.3.0 msgspec-0.19.0 multiprocess-0.70.16 networkx-3.5 notebook-7.4.5 numpy-2.3.2 nvidia-cublas-cu12-12.6.4.1 nvidia-cuda-cupti-cu12-12.6.80 nvidia-cuda-nvrtc-cu12-12.6.77 nvidia-cuda-runtime-cu12-12.6.77 nvidia-cudnn-cu12-9.5.1.17 nvidia-cufft-cu12-11.3.0.4 nvidia-cufile-cu12-1.11.1.6 nvidia-curand-cu12-10.3.7.77 nvidia-cusolver-cu12-11.7.1.2 nvidia-cusparse-cu12-12.5.4.2 nvidia-cusparselt-cu12-0.6.3 nvidia-nccl-cu12-2.26.2 nvidia-nvjitlink-cu12-12.6.85 nvidia-nvtx-cu12-12.6.77 pandas-2.3.2 peft-0.17.1 pillow-11.3.0 protobuf-6.32.0 pyarrow-21.0.0 pytz-2025.2 regex-2025.9.1 rich-14.1.0 safetensors-0.6.2 scikit-learn-1.7.1 scipy-1.16.1 sentencepiece-0.2.1 shtab-1.7.2 sympy-1.14.0 threadpoolctl-3.6.0 tokenizers-0.22.0 torch-2.7.0 torchao-0.13.0 torchvision-0.22.0 tqdm-4.67.1 transformers-4.56.1 triton-3.3.0 trl-0.22.2 typeguard-4.4.4 tyro-0.9.31 tzdata-2025.2 unsloth-2025.9.1 unsloth_zoo-2025.9.2 widgetsnbextension-4.0.14 xformers-0.0.30 xxhash-3.5.0 zipp-3.23.0\n"
     ]
    }
   ],
   "source": [
    "!pip install --upgrade pip\n",
    "!pip install transformers==4.56.1 evaluate==0.4.5 torch==2.7.0 unsloth==2025.9.1 ipywidgets==8.1.7 numpy==2.3.2 pandas==2.3.2 datasets==3.6.0 jupyter==1.1.1 scikit-learn==1.7.1"
   ]
  },
  {
   "cell_type": "markdown",
   "id": "cda69806",
   "metadata": {},
   "source": [
    "Import the necessary libraries for model inference, data processing, and evaluation."
   ]
  },
  {
   "cell_type": "code",
   "execution_count": 2,
   "id": "c897baf0",
   "metadata": {},
   "outputs": [
    {
     "name": "stdout",
     "output_type": "stream",
     "text": [
      "🦥 Unsloth: Will patch your computer to enable 2x faster free finetuning.\n",
      "🦥 Unsloth Zoo will now patch everything to make training faster!\n"
     ]
    }
   ],
   "source": [
    "import random\n",
    "import numpy as np\n",
    "import pandas as pd\n",
    "import torch\n",
    "from unsloth import FastLanguageModel\n",
    "from transformers import TextStreamer\n",
    "from datasets import load_dataset\n",
    "import evaluate"
   ]
  },
  {
   "cell_type": "markdown",
   "id": "eeb35c8e",
   "metadata": {},
   "source": [
    "Set up deterministic behavior for reproducible results by configuring random seeds for all relevant libraries:"
   ]
  },
  {
   "cell_type": "code",
   "execution_count": 3,
   "id": "3baeeea9",
   "metadata": {},
   "outputs": [],
   "source": [
    "RANDOM_STATE = 777\n",
    "\n",
    "def set_seed(seed=777, total_determinism=False):\n",
    "    seed = seed\n",
    "    torch.manual_seed(seed)\n",
    "    torch.backends.cudnn.deterministic = True\n",
    "    torch.backends.cudnn.benchmark = False\n",
    "    if total_determinism:\n",
    "        torch.use_deterministic_algorithms(True)\n",
    "    random.seed(seed)\n",
    "    np.random.seed(seed)\n",
    "    if torch.cuda.is_available():\n",
    "        torch.cuda.manual_seed(seed)\n",
    "        torch.cuda.manual_seed_all(seed)\n",
    "set_seed(RANDOM_STATE) # Set the seed for reproducibility -- use_deterministic_algorithms can make training slower :("
   ]
  },
  {
   "cell_type": "markdown",
   "id": "0da81171",
   "metadata": {},
   "source": [
    "Define the `Prompt` class (reused from the training notebook) to format input text for the LLM.\n",
    "For inference, we only use the `question` method to generate prompts without expected outputs."
   ]
  },
  {
   "cell_type": "code",
   "execution_count": 4,
   "id": "4c1c2e7b",
   "metadata": {},
   "outputs": [],
   "source": [
    "class Prompt:\n",
    "    def __init__(self, input_text):\n",
    "        self.input_text = input_text\n",
    "\n",
    "    def instruction(self):\n",
    "        return f\"\"\"Dividi il seguente testo italiano in frasi. Per favore rispondi con una frase per riga. Grazie.\n",
    "\n",
    "Testo: {self.input_text}\n",
    "\"\"\"\n",
    "\n",
    "    def conversation(self, output_text):\n",
    "        return[\n",
    "            {\"role\" : \"system\",    \"content\" : \"Sei un esperto di linguistica italiana specializzato nella segmentazione delle frasi.\"},\n",
    "            {\"role\" : \"user\",      \"content\" : self.instruction()},\n",
    "            {\"role\" : \"assistant\", \"content\" : output_text},\n",
    "        ]\n",
    "\n",
    "    def question(self):\n",
    "        return[\n",
    "            {\"role\" : \"system\",    \"content\" : \"Sei un esperto di linguistica italiana specializzato nella segmentazione delle frasi.\"},\n",
    "            {\"role\" : \"user\",      \"content\" : self.instruction()},\n",
    "        ]"
   ]
  },
  {
   "cell_type": "markdown",
   "id": "d4289e40",
   "metadata": {},
   "source": [
    "Load the model and tokenizer from the Hugging Face Hub. \n",
    "We apply model-specific chat templates to format questions into proper prompts for the LLM.\n",
    "The output is streamed and logged during generation for real-time monitoring."
   ]
  },
  {
   "cell_type": "code",
   "execution_count": 5,
   "id": "c920f111",
   "metadata": {},
   "outputs": [],
   "source": [
    "def load_model(model_name):\n",
    "    model, tokenizer = FastLanguageModel.from_pretrained(\n",
    "        'fax4ever/' + model_name, \n",
    "        load_in_4bit=True, \n",
    "        dtype=None, \n",
    "        max_seq_length=512\n",
    "    )\n",
    "    model = FastLanguageModel.for_inference(model)\n",
    "    return model, tokenizer    \n",
    "\n",
    "def use_model(model, tokenizer, input_text):\n",
    "    question = tokenizer.apply_chat_template(\n",
    "        [Prompt(input_text).question()], \n",
    "        tokenize = False,\n",
    "        add_generation_prompt = True, # Must add for generation\n",
    "        enable_thinking = False, # Disable thinking\n",
    "    )\n",
    "\n",
    "    return model.generate(\n",
    "        **tokenizer(question, return_tensors = \"pt\").to(\"cuda\"),\n",
    "        max_new_tokens = 512,\n",
    "        temperature = 0.7, top_p = 0.8, top_k = 20, # For non thinking\n",
    "        streamer = TextStreamer(tokenizer, skip_prompt = True),\n",
    "    )"
   ]
  },
  {
   "cell_type": "markdown",
   "id": "4eb7eb3e",
   "metadata": {},
   "source": [
    "The LLM-based models we fine-tuned are:\n",
    "\n",
    "1. Minerva-7B-instruct-v1.0-sentence-splitter\n",
    "2. qwen3-4b-unsloth-bnb-4bit-sentence-splitter\n",
    "3. mistral-7b-instruct-v0.3-bnb-4bit-sentence-splitter\n",
    "4. meta-llama-3.1-8b-instruct-unsloth-bnb-4bit-sentence-splitter\n",
    "\n",
    "We choose to produce labels using model (1), the Minerva-7B-instruct-v1.0-sentence-splitter."
   ]
  },
  {
   "cell_type": "code",
   "execution_count": 6,
   "id": "e4b598b5",
   "metadata": {},
   "outputs": [
    {
     "name": "stdout",
     "output_type": "stream",
     "text": [
      "==((====))==  Unsloth 2025.9.1: Fast Mistral patching. Transformers: 4.56.1.\n",
      "   \\\\   /|    NVIDIA L4. Num GPUs = 1. Max memory: 21.951 GB. Platform: Linux.\n",
      "O^O/ \\_/ \\    Torch: 2.7.0+cu126. CUDA: 8.9. CUDA Toolkit: 12.6. Triton: 3.3.0\n",
      "\\        /    Bfloat16 = TRUE. FA [Xformers = 0.0.30. FA2 = False]\n",
      " \"-____-\"     Free license: http://github.com/unslothai/unsloth\n",
      "Unsloth: Fast downloading is enabled - ignore downloading bars which are red colored!\n"
     ]
    },
    {
     "data": {
      "application/vnd.jupyter.widget-view+json": {
       "model_id": "6b15c5a4979347a590ddb96f469b1259",
       "version_major": 2,
       "version_minor": 0
      },
      "text/plain": [
       "model.safetensors.index.json: 0.00B [00:00, ?B/s]"
      ]
     },
     "metadata": {},
     "output_type": "display_data"
    },
    {
     "data": {
      "application/vnd.jupyter.widget-view+json": {
       "model_id": "7dafa5a6cd384fd784a447aeb6acea30",
       "version_major": 2,
       "version_minor": 0
      },
      "text/plain": [
       "Fetching 3 files:   0%|          | 0/3 [00:00<?, ?it/s]"
      ]
     },
     "metadata": {},
     "output_type": "display_data"
    },
    {
     "data": {
      "application/vnd.jupyter.widget-view+json": {
       "model_id": "18ded7a6081641af8b4bb541a0ee664d",
       "version_major": 2,
       "version_minor": 0
      },
      "text/plain": [
       "model-00002-of-00003.safetensors:   0%|          | 0.00/4.92G [00:00<?, ?B/s]"
      ]
     },
     "metadata": {},
     "output_type": "display_data"
    },
    {
     "data": {
      "application/vnd.jupyter.widget-view+json": {
       "model_id": "6d2fb98e5c6f4080bb0936e9874c44d1",
       "version_major": 2,
       "version_minor": 0
      },
      "text/plain": [
       "model-00001-of-00003.safetensors:   0%|          | 0.00/4.98G [00:00<?, ?B/s]"
      ]
     },
     "metadata": {},
     "output_type": "display_data"
    },
    {
     "data": {
      "application/vnd.jupyter.widget-view+json": {
       "model_id": "069392808f5445bb9406dd888f906109",
       "version_major": 2,
       "version_minor": 0
      },
      "text/plain": [
       "model-00003-of-00003.safetensors:   0%|          | 0.00/4.90G [00:00<?, ?B/s]"
      ]
     },
     "metadata": {},
     "output_type": "display_data"
    },
    {
     "data": {
      "application/vnd.jupyter.widget-view+json": {
       "model_id": "4f1b085a21994450b2defb350cf0b983",
       "version_major": 2,
       "version_minor": 0
      },
      "text/plain": [
       "Loading checkpoint shards:   0%|          | 0/3 [00:00<?, ?it/s]"
      ]
     },
     "metadata": {},
     "output_type": "display_data"
    },
    {
     "data": {
      "application/vnd.jupyter.widget-view+json": {
       "model_id": "76d93b923a9b48a390e5d224ba9f55ea",
       "version_major": 2,
       "version_minor": 0
      },
      "text/plain": [
       "generation_config.json:   0%|          | 0.00/226 [00:00<?, ?B/s]"
      ]
     },
     "metadata": {},
     "output_type": "display_data"
    },
    {
     "data": {
      "application/vnd.jupyter.widget-view+json": {
       "model_id": "f10404415a84443b953dff4eb6144e26",
       "version_major": 2,
       "version_minor": 0
      },
      "text/plain": [
       "tokenizer_config.json: 0.00B [00:00, ?B/s]"
      ]
     },
     "metadata": {},
     "output_type": "display_data"
    },
    {
     "data": {
      "application/vnd.jupyter.widget-view+json": {
       "model_id": "7573277601094b67ad583ae094ca71f5",
       "version_major": 2,
       "version_minor": 0
      },
      "text/plain": [
       "special_tokens_map.json:   0%|          | 0.00/670 [00:00<?, ?B/s]"
      ]
     },
     "metadata": {},
     "output_type": "display_data"
    },
    {
     "data": {
      "application/vnd.jupyter.widget-view+json": {
       "model_id": "77ba2b3a658e4e30b735292a54b0435f",
       "version_major": 2,
       "version_minor": 0
      },
      "text/plain": [
       "tokenizer.json: 0.00B [00:00, ?B/s]"
      ]
     },
     "metadata": {},
     "output_type": "display_data"
    },
    {
     "name": "stdout",
     "output_type": "stream",
     "text": [
      "sapienzanlp/Minerva-7B-instruct-v1.0 does not have a padding token! Will use pad_token = <unk>.\n"
     ]
    },
    {
     "data": {
      "application/vnd.jupyter.widget-view+json": {
       "model_id": "93e2d6e5f7cd40f0825d45d198b4a17d",
       "version_major": 2,
       "version_minor": 0
      },
      "text/plain": [
       "adapter_model.safetensors:   0%|          | 0.00/336M [00:00<?, ?B/s]"
      ]
     },
     "metadata": {},
     "output_type": "display_data"
    },
    {
     "name": "stderr",
     "output_type": "stream",
     "text": [
      "Unsloth 2025.9.1 patched 32 layers with 32 QKV layers, 32 O layers and 32 MLP layers.\n"
     ]
    }
   ],
   "source": [
    "model, tokenizer = load_model(\"Minerva-7B-instruct-v1.0-sentence-splitter\")"
   ]
  },
  {
   "cell_type": "markdown",
   "id": "dce8379d",
   "metadata": {},
   "source": [
    "Load the pre-processed dataset that was generated in the `sentence_splitter_out_of_domain_test_discriminative.ipynb` notebook. This dataset is essentially a grouped version of the `data/OOD_test.csv` file, where words are organized into sequences.\n",
    "\n",
    "**Note:** These sequences are not actual sentences—they are artificial groupings for processing purposes."
   ]
  },
  {
   "cell_type": "code",
   "execution_count": 7,
   "id": "5f3e26b3",
   "metadata": {},
   "outputs": [
    {
     "data": {
      "application/vnd.jupyter.widget-view+json": {
       "model_id": "e829cbfad91649148160e99896f1604c",
       "version_major": 2,
       "version_minor": 0
      },
      "text/plain": [
       "README.md:   0%|          | 0.00/304 [00:00<?, ?B/s]"
      ]
     },
     "metadata": {},
     "output_type": "display_data"
    },
    {
     "data": {
      "application/vnd.jupyter.widget-view+json": {
       "model_id": "d89bc8ad7589432e9dbff7fef91e4640",
       "version_major": 2,
       "version_minor": 0
      },
      "text/plain": [
       "test-00000-of-00001.parquet:   0%|          | 0.00/7.57k [00:00<?, ?B/s]"
      ]
     },
     "metadata": {},
     "output_type": "display_data"
    },
    {
     "data": {
      "application/vnd.jupyter.widget-view+json": {
       "model_id": "a84a4570c69447aeb2b89164e0c7f0c6",
       "version_major": 2,
       "version_minor": 0
      },
      "text/plain": [
       "Generating test split:   0%|          | 0/12 [00:00<?, ? examples/s]"
      ]
     },
     "metadata": {},
     "output_type": "display_data"
    }
   ],
   "source": [
    "# with fax4ever/sentence-splitter-ood-192 we produce more than 512 tokens!\n",
    "dataset_dict = load_dataset(\"fax4ever/sentence-splitter-ood-128\")"
   ]
  },
  {
   "cell_type": "code",
   "execution_count": 8,
   "id": "8737ad29",
   "metadata": {},
   "outputs": [],
   "source": [
    "def words_to_sequence(words):\n",
    "    input_text = \" \".join(words)\n",
    "    input_text = input_text.replace(\" ,\", \",\")\n",
    "    input_text = input_text.replace(\" .\", \".\")\n",
    "    input_text = input_text.replace(\" ?\", \"?\")\n",
    "    input_text = input_text.replace(\" !\", \"!\")\n",
    "    input_text = input_text.replace(\" :\", \":\")\n",
    "    input_text = input_text.replace(\" ;\", \";\")\n",
    "    input_text = input_text.replace(\"' \", \"'\")\n",
    "    return input_text"
   ]
  },
  {
   "cell_type": "markdown",
   "id": "23635c80",
   "metadata": {},
   "source": [
    "Producing sentence splitting labels from an LLM is not a trivial task according to our analysis.\n",
    "We created a utility class to produce labels for the test set words using the LLM output.\n",
    "\n",
    "To achieve perfect alignment, we need to manually adjust the LLM output with a few specific replacements:\n",
    "\n",
    "1. `...` → `…`\n",
    "2. `mise` → `messe`\n",
    "3. `trasfigurato` → `trasfigurito`\n",
    "\n",
    "The three dots can be written as a single `…` character instead of three separate dot characters `...`.\n",
    "\n",
    "`messe` can be used in place of `mise`, see https://www.scholingua.com/it/it/coniugazione/mettersi.\n",
    "Probably the former is an older form.\n",
    "\n",
    "`trasfigurito` appears to be an alternative way of saying `trasfigurato`, see https://www.treccani.it/vocabolario/ricerca/trasfigurito/.\n",
    "\n",
    "We can consider these as minor hallucinations that we want to tolerate.\n",
    "Other hallucinations will produce an `AllucinationException` that will be logged to the system."
   ]
  },
  {
   "cell_type": "code",
   "execution_count": 9,
   "id": "77ec021b",
   "metadata": {},
   "outputs": [],
   "source": [
    "class AllucinationException(Exception):\n",
    "    def __init__(self, message):\n",
    "        self.message = message\n",
    "        super().__init__(self.message)"
   ]
  },
  {
   "cell_type": "code",
   "execution_count": 10,
   "id": "24ae1a6d",
   "metadata": {},
   "outputs": [],
   "source": [
    "class MinervaLabels:\n",
    "  def __init__(self, minerva_output:str, words:list):\n",
    "    self.words = words\n",
    "    self.words_joined = \"\".join(words)\n",
    "    self.minerva_output = minerva_output\n",
    "    self.sentences = self._create_sentences()\n",
    "    self.aligned_sentences = self._aligned_sentences()\n",
    "    self._check_alinged_sentences() # Sanity check\n",
    "\n",
    "  def _create_sentences(self):\n",
    "    import re\n",
    "    sentences = []\n",
    "    for line in self.minerva_output.split(\"\\n\"):\n",
    "      # Look for lines that start with number followed by dot and space\n",
    "      match = re.match(r'^(\\d+)\\.\\s+(.*)', line)\n",
    "      if match:\n",
    "        sentence = match.group(2)  # Extract the sentence part after \"NUMBER. \"\n",
    "        # Clean up Minerva control tokens like <|eot_id|>\n",
    "        sentence = re.sub(r'<\\|[^|]+\\|>', '', sentence)\n",
    "        sentences.append(sentence)\n",
    "    return sentences\n",
    "\n",
    "  def _aligned_sentences(self):\n",
    "    return [self._align_sentence(sentence) for sentence in self.sentences]\n",
    "\n",
    "  def _align_sentence(self, sentence):\n",
    "    sentence = sentence.replace(\" \", \"\")\n",
    "    sentence = sentence.replace(\"...\", \"…\")\n",
    "    sentence = sentence.replace(\"mise\", \"messe\")\n",
    "    sentence = sentence.replace(\"trasfigurato\", \"trasfigurito\")\n",
    "    if sentence in self.words_joined:\n",
    "      return sentence\n",
    "    else:\n",
    "      # in this case the model is hallucinating altering a sentence or producing a sentence that does not exist\n",
    "      raise AllucinationException(f\"Sentence {sentence} not found in {self.words_joined}\")\n",
    "\n",
    "  def _check_alinged_sentences(self):\n",
    "    aligned_join = \"\".join(self.aligned_sentences)\n",
    "    if not aligned_join == self.words_joined:\n",
    "      # in this case the model is hallucinating not producing a sentence passed in input\n",
    "      raise AllucinationException(f\"Aligned sentences {self.aligned_sentences} do not match words {self.words_joined}\")\n",
    "\n",
    "  def aligned_labels(self, golden_labels):\n",
    "    labels = [0] * len(self.words)\n",
    "\n",
    "    index = 0\n",
    "    split_indexes = set()\n",
    "    for sentence in self.aligned_sentences:\n",
    "      length = len(sentence)\n",
    "      index += length\n",
    "      split_indexes.add(index)\n",
    "    \n",
    "    index = 0\n",
    "    for i, word in enumerate(self.words):\n",
    "      length = len(word)\n",
    "      index += length\n",
    "      if index in split_indexes:\n",
    "        labels[i] = 1\n",
    "\n",
    "    # The last word can be a 1 or a 0,\n",
    "    # the model is not asked to predict the last word, so we use the golden labels\n",
    "    labels[-1] = golden_labels[-1]\n",
    "    \n",
    "    return labels"
   ]
  },
  {
   "cell_type": "markdown",
   "id": "399c75dc",
   "metadata": {},
   "source": [
    "Collect all words along with their corresponding golden labels and model-predicted labels for evaluation.\n",
    "We will also compute the F1 score to measure model performance."
   ]
  },
  {
   "cell_type": "code",
   "execution_count": 11,
   "id": "502c4cef",
   "metadata": {},
   "outputs": [
    {
     "data": {
      "application/vnd.jupyter.widget-view+json": {
       "model_id": "d9e98d220eb842128fb7a0e2e8410e16",
       "version_major": 2,
       "version_minor": 0
      },
      "text/plain": [
       "Downloading builder script: 0.00B [00:00, ?B/s]"
      ]
     },
     "metadata": {},
     "output_type": "display_data"
    }
   ],
   "source": [
    "all_words = []\n",
    "all_golden_labels = []\n",
    "all_minerva_labels = []\n",
    "minerva_f1 = evaluate.load(\"f1\", average=\"binary\")"
   ]
  },
  {
   "cell_type": "code",
   "execution_count": 12,
   "id": "29a2231e",
   "metadata": {},
   "outputs": [
    {
     "name": "stdout",
     "output_type": "stream",
     "text": [
      "1. C'era una volta ... –\n",
      "2. Un re! – diranno subito i miei piccoli lettori.\n",
      "3. – No, ragazzi, avete sbagliato.\n",
      "4. C'era una volta un pezzo di legno.\n",
      "5. Non era un legno di lusso, ma un semplice pezzo da catasta, di quelli che d'inverno si mettono nelle stufe e nei caminetti per accendere il fuoco e per riscaldare le stanze.\n",
      "6. Non so come andasse, ma il fatto gli è che un bel giorno questo pezzo di legno capitò nella bottega di un vecchio falegname, il quale aveva nome mastr'Antonio, se non che tutti lo chiamavano maestro Ciliegia, per via della punta del suo naso, che era sempre lustra e paonazza, come una<|eot_id|>\n",
      "Batch 0\n",
      "[\"C'\", 'era', 'una', 'volta', '…', '–', 'Un', 're', '!', '–', 'diranno', 'subito', 'i', 'miei', 'piccoli', 'lettori', '.', '–', 'No', ',', 'ragazzi', ',', 'avete', 'sbagliato', '.', \"C'\", 'era', 'una', 'volta', 'un', 'pezzo', 'di', 'legno', '.', 'Non', 'era', 'un', 'legno', 'di', 'lusso', ',', 'ma', 'un', 'semplice', 'pezzo', 'da', 'catasta', ',', 'di', 'quelli', 'che', \"d'\", 'inverno', 'si', 'mettono', 'nelle', 'stufe', 'e', 'nei', 'caminetti', 'per', 'accendere', 'il', 'fuoco', 'e', 'per', 'riscaldare', 'le', 'stanze', '.', 'Non', 'so', 'come', 'andasse', ',', 'ma', 'il', 'fatto', 'gli', 'è', 'che', 'un', 'bel', 'giorno', 'questo', 'pezzo', 'di', 'legno', 'capitò', 'nella', 'bottega', 'di', 'un', 'vecchio', 'falegname', ',', 'il', 'quale', 'aveva', 'nome', \"mastr'Antonio\", ',', 'se', 'non', 'che', 'tutti', 'lo', 'chiamavano', 'maestro', 'Ciliegia', ',', 'per', 'via', 'della', 'punta', 'del', 'suo', 'naso', ',', 'che', 'era', 'sempre', 'lustra', 'e', 'paonazza', ',', 'come', 'una']\n",
      "[0, 0, 0, 0, 0, 0, 0, 0, 0, 0, 0, 0, 0, 0, 0, 0, 1, 0, 0, 0, 0, 0, 0, 0, 1, 0, 0, 0, 0, 0, 0, 0, 0, 1, 0, 0, 0, 0, 0, 0, 0, 0, 0, 0, 0, 0, 0, 0, 0, 0, 0, 0, 0, 0, 0, 0, 0, 0, 0, 0, 0, 0, 0, 0, 0, 0, 0, 0, 0, 1, 0, 0, 0, 0, 0, 0, 0, 0, 0, 0, 0, 0, 0, 0, 0, 0, 0, 0, 0, 0, 0, 0, 0, 0, 0, 0, 0, 0, 0, 0, 0, 0, 0, 0, 0, 0, 0, 0, 0, 0, 0, 0, 0, 0, 0, 0, 0, 0, 0, 0, 0, 0, 0, 0, 0, 0, 0, 0]\n",
      "[0, 0, 0, 0, 0, 1, 0, 0, 0, 0, 0, 0, 0, 0, 0, 0, 1, 0, 0, 0, 0, 0, 0, 0, 1, 0, 0, 0, 0, 0, 0, 0, 0, 1, 0, 0, 0, 0, 0, 0, 0, 0, 0, 0, 0, 0, 0, 0, 0, 0, 0, 0, 0, 0, 0, 0, 0, 0, 0, 0, 0, 0, 0, 0, 0, 0, 0, 0, 0, 1, 0, 0, 0, 0, 0, 0, 0, 0, 0, 0, 0, 0, 0, 0, 0, 0, 0, 0, 0, 0, 0, 0, 0, 0, 0, 0, 0, 0, 0, 0, 0, 0, 0, 0, 0, 0, 0, 0, 0, 0, 0, 0, 0, 0, 0, 0, 0, 0, 0, 0, 0, 0, 0, 0, 0, 0, 0, 0]\n",
      "1. Ciliegia matura.\n",
      "2. Appena maestro Ciliegia ebbe visto quel pezzo di legno, si rallegrò tutto; e dandosi una fregatina di mani per la contentezza, borbottò a mezza voce: – Questo legno è capitato a tempo: voglio servirmene per fare una gamba di tavolino.\n",
      "3. Detto fatto, prese subito l'ascia arrotata per cominciare a levargli la scorza e a digrossarlo, ma quando fu lì per lasciare andare la prima asciata, rimase col braccio sospeso in aria, perchè sentì una vocina sottile sottile, che disse raccomandandosi: – Non mi picchiar tanto forte!\n",
      "4. Figuratevi come rimase quel buon vecchio di maestro Ciliegia!\n",
      "5. Girò gli occhi smarriti intorno alla stanza per vedere di dove mai poteva essere uscita<|eot_id|>\n",
      "Batch 1\n",
      "['Ciliegia', 'matura', '.', 'Appena', 'maestro', 'Ciliegia', 'ebbe', 'visto', 'quel', 'pezzo', 'di', 'legno', ',', 'si', 'rallegrò', 'tutto', ';', 'e', 'dandosi', 'una', 'fregatina', 'di', 'mani', 'per', 'la', 'contentezza', ',', 'borbottò', 'a', 'mezza', 'voce', ':', '–', 'Questo', 'legno', 'è', 'capitato', 'a', 'tempo', ':', 'voglio', 'servirmene', 'per', 'fare', 'una', 'gamba', 'di', 'tavolino', '.', 'Detto', 'fatto', ',', 'prese', 'subito', \"l'\", 'ascia', 'arrotata', 'per', 'cominciare', 'a', 'levargli', 'la', 'scorza', 'e', 'a', 'digrossarlo', ',', 'ma', 'quando', 'fu', 'lì', 'per', 'lasciare', 'andare', 'la', 'prima', 'asciata', ',', 'rimase', 'col', 'braccio', 'sospeso', 'in', 'aria', ',', 'perchè', 'sentì', 'una', 'vocina', 'sottile', 'sottile', ',', 'che', 'disse', 'raccomandandosi', ':', '–', 'Non', 'mi', 'picchiar', 'tanto', 'forte', '!', 'Figuratevi', 'come', 'rimase', 'quel', 'buon', 'vecchio', 'di', 'maestro', 'Ciliegia', '!', 'Girò', 'gli', 'occhi', 'smarriti', 'intorno', 'alla', 'stanza', 'per', 'vedere', 'di', 'dove', 'mai', 'poteva', 'essere', 'uscita']\n",
      "[0, 0, 1, 0, 0, 0, 0, 0, 0, 0, 0, 0, 0, 0, 0, 0, 0, 0, 0, 0, 0, 0, 0, 0, 0, 0, 0, 0, 0, 0, 0, 0, 0, 0, 0, 0, 0, 0, 0, 0, 0, 0, 0, 0, 0, 0, 0, 0, 1, 0, 0, 0, 0, 0, 0, 0, 0, 0, 0, 0, 0, 0, 0, 0, 0, 0, 0, 0, 0, 0, 0, 0, 0, 0, 0, 0, 0, 0, 0, 0, 0, 0, 0, 0, 0, 0, 0, 0, 0, 0, 0, 0, 0, 0, 0, 0, 0, 0, 0, 0, 0, 0, 1, 0, 0, 0, 0, 0, 0, 0, 0, 0, 1, 0, 0, 0, 0, 0, 0, 0, 0, 0, 0, 0, 0, 0, 0, 0]\n",
      "[0, 0, 1, 0, 0, 0, 0, 0, 0, 0, 0, 0, 0, 0, 0, 0, 0, 0, 0, 0, 0, 0, 0, 0, 0, 0, 0, 0, 0, 0, 0, 0, 0, 0, 0, 0, 0, 0, 0, 0, 0, 0, 0, 0, 0, 0, 0, 0, 1, 0, 0, 0, 0, 0, 0, 0, 0, 0, 0, 0, 0, 0, 0, 0, 0, 0, 0, 0, 0, 0, 0, 0, 0, 0, 0, 0, 0, 0, 0, 0, 0, 0, 0, 0, 0, 0, 0, 0, 0, 0, 0, 0, 0, 0, 0, 0, 0, 0, 0, 0, 0, 0, 1, 0, 0, 0, 0, 0, 0, 0, 0, 0, 1, 0, 0, 0, 0, 0, 0, 0, 0, 0, 0, 0, 0, 0, 0, 0]\n",
      "1. quella vocina, e non vide nessuno!\n",
      "2. Guardò sotto il banco, e nessuno; guardò dentro un armadio che stava sempre chiuso, e nessuno; guardò nel corbello dei trucioli e della segatura, e nessuno; aprì l'uscio di bottega per dare un'occhiata anche sulla strada, e nessuno.\n",
      "3. O dunque? ... – Ho capito; – disse allora ridendo e grattandosi la parrucca – si vede che quella vocina me la sono figurata io.\n",
      "4. Rimettiamoci a lavorare.\n",
      "5. E ripresa l'ascia in mano, tirò giù un solennissimo colpo sul pezzo di legno.\n",
      "6. – Ohi! tu m'hai fatto male! – gridò rammaricandosi la solita vocina.\n",
      "7. Questa volta maestro Ciliegia restò di stucco, cogli<|eot_id|>\n",
      "Batch 2\n",
      "['quella', 'vocina', ',', 'e', 'non', 'vide', 'nessuno', '!', 'Guardò', 'sotto', 'il', 'banco', ',', 'e', 'nessuno', ';', 'guardò', 'dentro', 'un', 'armadio', 'che', 'stava', 'sempre', 'chiuso', ',', 'e', 'nessuno', ';', 'guardò', 'nel', 'corbello', 'dei', 'trucioli', 'e', 'della', 'segatura', ',', 'e', 'nessuno', ';', 'aprì', \"l'\", 'uscio', 'di', 'bottega', 'per', 'dare', \"un'occhiata\", 'anche', 'sulla', 'strada', ',', 'e', 'nessuno', '.', 'O', 'dunque', '?', '…', '–', 'Ho', 'capito', ';', '–', 'disse', 'allora', 'ridendo', 'e', 'grattandosi', 'la', 'parrucca', '–', 'si', 'vede', 'che', 'quella', 'vocina', 'me', 'la', 'sono', 'figurata', 'io', '.', 'Rimettiamoci', 'a', 'lavorare', '.', 'E', 'ripresa', \"l'\", 'ascia', 'in', 'mano', ',', 'tirò', 'giù', 'un', 'solennissimo', 'colpo', 'sul', 'pezzo', 'di', 'legno', '.', '–', 'Ohi', '!', 'tu', \"m'hai\", 'fatto', 'male', '!', '–', 'gridò', 'rammaricandosi', 'la', 'solita', 'vocina', '.', 'Questa', 'volta', 'maestro', 'Ciliegia', 'restò', 'di', 'stucco', ',', 'cogli']\n",
      "[0, 0, 0, 0, 0, 0, 0, 1, 0, 0, 0, 0, 0, 0, 0, 0, 0, 0, 0, 0, 0, 0, 0, 0, 0, 0, 0, 1, 0, 0, 0, 0, 0, 0, 0, 0, 0, 0, 0, 1, 0, 0, 0, 0, 0, 0, 0, 0, 0, 0, 0, 0, 0, 0, 1, 0, 0, 0, 1, 0, 0, 0, 0, 0, 0, 0, 0, 0, 0, 0, 0, 0, 0, 0, 0, 0, 0, 0, 0, 0, 0, 0, 1, 0, 0, 0, 1, 0, 0, 0, 0, 0, 0, 0, 0, 0, 0, 0, 0, 0, 0, 0, 0, 1, 0, 0, 0, 0, 0, 0, 0, 0, 0, 0, 0, 0, 0, 0, 1, 0, 0, 0, 0, 0, 0, 0, 0, 0]\n",
      "[0, 0, 0, 0, 0, 0, 0, 1, 0, 0, 0, 0, 0, 0, 0, 0, 0, 0, 0, 0, 0, 0, 0, 0, 0, 0, 0, 0, 0, 0, 0, 0, 0, 0, 0, 0, 0, 0, 0, 0, 0, 0, 0, 0, 0, 0, 0, 0, 0, 0, 0, 0, 0, 0, 1, 0, 0, 0, 0, 0, 0, 0, 0, 0, 0, 0, 0, 0, 0, 0, 0, 0, 0, 0, 0, 0, 0, 0, 0, 0, 0, 0, 1, 0, 0, 0, 1, 0, 0, 0, 0, 0, 0, 0, 0, 0, 0, 0, 0, 0, 0, 0, 0, 1, 0, 0, 0, 0, 0, 0, 0, 0, 0, 0, 0, 0, 0, 0, 1, 0, 0, 0, 0, 0, 0, 0, 0, 0]\n",
      "1. occhi fuori del capo per la paura, colla bocca spalancata e colla lingua giù ciondoloni fino al mento, come un mascherone da fontana.\n",
      "2. Appena riebbe l'uso della parola, cominciò a dire tremando e balbettando dallo spavento: – Ma di dove sarà uscita questa vocina che ha detto ohi? ...\n",
      "3. Eppure qui non c'è anima viva.\n",
      "4. Che sia per caso questo pezzo di legno che abbia imparato a piangere e a lamentarsi come un bambino?\n",
      "5. Io non lo posso credere.\n",
      "6. Questo legno eccolo qui; è un pezzo di legno da caminetto, come tutti gli altri, e a buttarlo sul fuoco, c'è da far bollire una pentola di fagioli ...\n",
      "7. O dunque?\n",
      "8. Che<|eot_id|>\n",
      "Batch 3\n",
      "['occhi', 'fuori', 'del', 'capo', 'per', 'la', 'paura', ',', 'colla', 'bocca', 'spalancata', 'e', 'colla', 'lingua', 'giù', 'ciondoloni', 'fino', 'al', 'mento', ',', 'come', 'un', 'mascherone', 'da', 'fontana', '.', 'Appena', 'riebbe', \"l'\", 'uso', 'della', 'parola', ',', 'cominciò', 'a', 'dire', 'tremando', 'e', 'balbettando', 'dallo', 'spavento', ':', '–', 'Ma', 'di', 'dove', 'sarà', 'uscita', 'questa', 'vocina', 'che', 'ha', 'detto', 'ohi', '?', '…', 'Eppure', 'qui', 'non', \"c'\", 'è', 'anima', 'viva', '.', 'Che', 'sia', 'per', 'caso', 'questo', 'pezzo', 'di', 'legno', 'che', 'abbia', 'imparato', 'a', 'piangere', 'e', 'a', 'lamentarsi', 'come', 'un', 'bambino', '?', 'Io', 'non', 'lo', 'posso', 'credere', '.', 'Questo', 'legno', 'eccolo', 'qui', ';', 'è', 'un', 'pezzo', 'di', 'legno', 'da', 'caminetto', ',', 'come', 'tutti', 'gli', 'altri', ',', 'e', 'a', 'buttarlo', 'sul', 'fuoco', ',', \"c'\", 'è', 'da', 'far', 'bollire', 'una', 'pentola', 'di', 'fagioli', '…', 'O', 'dunque', '?', 'Che']\n",
      "[0, 0, 0, 0, 0, 0, 0, 0, 0, 0, 0, 0, 0, 0, 0, 0, 0, 0, 0, 0, 0, 0, 0, 0, 0, 1, 0, 0, 0, 0, 0, 0, 0, 0, 0, 0, 0, 0, 0, 0, 0, 1, 0, 0, 0, 0, 0, 0, 0, 0, 0, 0, 0, 0, 0, 0, 0, 0, 0, 0, 0, 0, 0, 1, 0, 0, 0, 0, 0, 0, 0, 0, 0, 0, 0, 0, 0, 0, 0, 0, 0, 0, 0, 1, 0, 0, 0, 0, 0, 1, 0, 0, 0, 0, 1, 0, 0, 0, 0, 0, 0, 0, 0, 0, 0, 0, 0, 0, 0, 0, 0, 0, 0, 0, 0, 0, 0, 0, 0, 0, 0, 0, 0, 0, 0, 0, 1, 0]\n",
      "[0, 0, 0, 0, 0, 0, 0, 0, 0, 0, 0, 0, 0, 0, 0, 0, 0, 0, 0, 0, 0, 0, 0, 0, 0, 1, 0, 0, 0, 0, 0, 0, 0, 0, 0, 0, 0, 0, 0, 0, 0, 0, 0, 0, 0, 0, 0, 0, 0, 0, 0, 0, 0, 0, 0, 1, 0, 0, 0, 0, 0, 0, 0, 1, 0, 0, 0, 0, 0, 0, 0, 0, 0, 0, 0, 0, 0, 0, 0, 0, 0, 0, 0, 1, 0, 0, 0, 0, 0, 1, 0, 0, 0, 0, 0, 0, 0, 0, 0, 0, 0, 0, 0, 0, 0, 0, 0, 0, 0, 0, 0, 0, 0, 0, 0, 0, 0, 0, 0, 0, 0, 0, 0, 1, 0, 0, 1, 0]\n",
      "1. ci sia nascosto dentro qualcuno?\n",
      "2. Se c'è nascosto qualcuno, tanto peggio per lui.\n",
      "3. Ora l'accomodo io!\n",
      "4. E così dicendo, agguantò con tutte e due le mani quel povero pezzo di legno, e si pose a sbatacchiarlo senza carità contro le pareti della stanza.\n",
      "5. Poi si mise in ascolto, per sentire se c'era qualche vocina che si lamentasse.\n",
      "6. Aspettò due minuti, e nulla; cinque minuti, e nulla; dieci minuti, e nulla!\n",
      "7. – Ho capito – disse allora sforzandosi di ridere e arruffandosi la parrucca – si vede che quella vocina che ha detto ohi, me la sono figurata io!\n",
      "8. Rimettiamoci a lavorare.\n",
      "9. E perchè gli era entrata addosso<|eot_id|>\n",
      "Batch 4\n",
      "['ci', 'sia', 'nascosto', 'dentro', 'qualcuno', '?', 'Se', \"c'\", 'è', 'nascosto', 'qualcuno', ',', 'tanto', 'peggio', 'per', 'lui', '.', 'Ora', \"l'\", 'accomodo', 'io', '!', 'E', 'così', 'dicendo', ',', 'agguantò', 'con', 'tutte', 'e', 'due', 'le', 'mani', 'quel', 'povero', 'pezzo', 'di', 'legno', ',', 'e', 'si', 'pose', 'a', 'sbatacchiarlo', 'senza', 'carità', 'contro', 'le', 'pareti', 'della', 'stanza', '.', 'Poi', 'si', 'messe', 'in', 'ascolto', ',', 'per', 'sentire', 'se', \"c'\", 'era', 'qualche', 'vocina', 'che', 'si', 'lamentasse', '.', 'Aspettò', 'due', 'minuti', ',', 'e', 'nulla', ';', 'cinque', 'minuti', ',', 'e', 'nulla', ';', 'dieci', 'minuti', ',', 'e', 'nulla', '!', '–', 'Ho', 'capito', '–', 'disse', 'allora', 'sforzandosi', 'di', 'ridere', 'e', 'arruffandosi', 'la', 'parrucca', '–', 'si', 'vede', 'che', 'quella', 'vocina', 'che', 'ha', 'detto', 'ohi', ',', 'me', 'la', 'sono', 'figurata', 'io', '!', 'Rimettiamoci', 'a', 'lavorare', '.', 'E', 'perchè', 'gli', 'era', 'entrata', 'addosso']\n",
      "[0, 0, 0, 0, 0, 1, 0, 0, 0, 0, 0, 0, 0, 0, 0, 0, 1, 0, 0, 0, 0, 1, 0, 0, 0, 0, 0, 0, 0, 0, 0, 0, 0, 0, 0, 0, 0, 0, 0, 0, 0, 0, 0, 0, 0, 0, 0, 0, 0, 0, 0, 1, 0, 0, 0, 0, 0, 0, 0, 0, 0, 0, 0, 0, 0, 0, 0, 0, 1, 0, 0, 0, 0, 0, 0, 1, 0, 0, 0, 0, 0, 1, 0, 0, 0, 0, 0, 1, 0, 0, 0, 0, 0, 0, 0, 0, 0, 0, 0, 0, 0, 0, 0, 0, 0, 0, 0, 0, 0, 0, 0, 0, 0, 0, 0, 0, 0, 1, 0, 0, 0, 1, 0, 0, 0, 0, 0, 0]\n",
      "[0, 0, 0, 0, 0, 1, 0, 0, 0, 0, 0, 0, 0, 0, 0, 0, 1, 0, 0, 0, 0, 1, 0, 0, 0, 0, 0, 0, 0, 0, 0, 0, 0, 0, 0, 0, 0, 0, 0, 0, 0, 0, 0, 0, 0, 0, 0, 0, 0, 0, 0, 1, 0, 0, 0, 0, 0, 0, 0, 0, 0, 0, 0, 0, 0, 0, 0, 0, 1, 0, 0, 0, 0, 0, 0, 0, 0, 0, 0, 0, 0, 0, 0, 0, 0, 0, 0, 1, 0, 0, 0, 0, 0, 0, 0, 0, 0, 0, 0, 0, 0, 0, 0, 0, 0, 0, 0, 0, 0, 0, 0, 0, 0, 0, 0, 0, 0, 1, 0, 0, 0, 1, 0, 0, 0, 0, 0, 0]\n",
      "1. una gran paura, si provò a canterellare per farsi un po'di coraggio.\n",
      "2. Intanto, posata da una parte l'ascia, prese in mano la pialla, per piallare e tirare a pulimento il pezzo di legno; ma nel mentre che lo piallava in su e in giù, sentì la solita vocina che gli disse ridendo: – Smetti! tu mi fai il pizzicorino sul corpo!\n",
      "3. Questa volta il povero maestro Ciliegia cadde giù come fulminato.\n",
      "4. Quando riaprì gli occhi, si trovò seduto per terra.\n",
      "5. Il suo viso pareva trasfigurato, e perfino la punta del naso, di paonazza come era quasi sempre, gli era diventata turchina dalla gran paura.\n",
      "6. In quel punto fu bussato<|eot_id|>\n",
      "Batch 5\n",
      "['una', 'gran', 'paura', ',', 'si', 'provò', 'a', 'canterellare', 'per', 'farsi', 'un', \"po'\", 'di', 'coraggio', '.', 'Intanto', ',', 'posata', 'da', 'una', 'parte', \"l'\", 'ascia', ',', 'prese', 'in', 'mano', 'la', 'pialla', ',', 'per', 'piallare', 'e', 'tirare', 'a', 'pulimento', 'il', 'pezzo', 'di', 'legno', ';', 'ma', 'nel', 'mentre', 'che', 'lo', 'piallava', 'in', 'su', 'e', 'in', 'giù', ',', 'sentì', 'la', 'solita', 'vocina', 'che', 'gli', 'disse', 'ridendo', ':', '–', 'Smetti', '!', 'tu', 'mi', 'fai', 'il', 'pizzicorino', 'sul', 'corpo', '!', 'Questa', 'volta', 'il', 'povero', 'maestro', 'Ciliegia', 'cadde', 'giù', 'come', 'fulminato', '.', 'Quando', 'riaprì', 'gli', 'occhi', ',', 'si', 'trovò', 'seduto', 'per', 'terra', '.', 'Il', 'suo', 'viso', 'pareva', 'trasfigurito', ',', 'e', 'perfino', 'la', 'punta', 'del', 'naso', ',', 'di', 'paonazza', 'come', 'era', 'quasi', 'sempre', ',', 'gli', 'era', 'diventata', 'turchina', 'dalla', 'gran', 'paura', '.', 'In', 'quel', 'punto', 'fu', 'bussato']\n",
      "[0, 0, 0, 0, 0, 0, 0, 0, 0, 0, 0, 0, 0, 0, 1, 0, 0, 0, 0, 0, 0, 0, 0, 0, 0, 0, 0, 0, 0, 0, 0, 0, 0, 0, 0, 0, 0, 0, 0, 0, 1, 0, 0, 0, 0, 0, 0, 0, 0, 0, 0, 0, 0, 0, 0, 0, 0, 0, 0, 0, 0, 1, 0, 0, 0, 0, 0, 0, 0, 0, 0, 0, 1, 0, 0, 0, 0, 0, 0, 0, 0, 0, 0, 1, 0, 0, 0, 0, 0, 0, 0, 0, 0, 0, 1, 0, 0, 0, 0, 0, 0, 0, 0, 0, 0, 0, 0, 0, 0, 0, 0, 0, 0, 0, 0, 0, 0, 0, 0, 0, 0, 0, 1, 0, 0, 0, 0, 0]\n",
      "[0, 0, 0, 0, 0, 0, 0, 0, 0, 0, 0, 0, 0, 0, 1, 0, 0, 0, 0, 0, 0, 0, 0, 0, 0, 0, 0, 0, 0, 0, 0, 0, 0, 0, 0, 0, 0, 0, 0, 0, 0, 0, 0, 0, 0, 0, 0, 0, 0, 0, 0, 0, 0, 0, 0, 0, 0, 0, 0, 0, 0, 0, 0, 0, 0, 0, 0, 0, 0, 0, 0, 0, 1, 0, 0, 0, 0, 0, 0, 0, 0, 0, 0, 1, 0, 0, 0, 0, 0, 0, 0, 0, 0, 0, 1, 0, 0, 0, 0, 0, 0, 0, 0, 0, 0, 0, 0, 0, 0, 0, 0, 0, 0, 0, 0, 0, 0, 0, 0, 0, 0, 0, 1, 0, 0, 0, 0, 0]\n",
      "1. alla porta. –\n",
      "2. Passate pure – disse il falegname, senza aver la forza di rizzarsi in piedi.\n",
      "3. Allora entrò in bottega un vecchietto tutto arzillo, il quale aveva nome Geppetto; ma i ragazzi del vicinato, quando lo volevano far montare su tutte le furie, lo chiamavano col soprannome di Polendina, a motivo della sua parrucca gialla che somigliava moltissimo alla polendina di granturco.\n",
      "4. Geppetto era bizzosissimo.\n",
      "5. Guai a chiamarlo Polendina!\n",
      "6. Diventava subito una bestia, e non c'era più verso di tenerlo.\n",
      "7. – Buon giorno, mastr'Antonio – disse Geppetto.\n",
      "8. – Che cosa fate costì per terra?\n",
      "9. – Insegno l'abbaco alle formicole.\n",
      "10. – Buon pro vi faccia.\n",
      "11. – Chi vi<|eot_id|>\n",
      "Batch 6\n",
      "['alla', 'porta', '.', '–', 'Passate', 'pure', '–', 'disse', 'il', 'falegname', ',', 'senza', 'aver', 'la', 'forza', 'di', 'rizzarsi', 'in', 'piedi', '.', 'Allora', 'entrò', 'in', 'bottega', 'un', 'vecchietto', 'tutto', 'arzillo', ',', 'il', 'quale', 'aveva', 'nome', 'Geppetto', ';', 'ma', 'i', 'ragazzi', 'del', 'vicinato', ',', 'quando', 'lo', 'volevano', 'far', 'montare', 'su', 'tutte', 'le', 'furie', ',', 'lo', 'chiamavano', 'col', 'soprannome', 'di', 'Polendina', ',', 'a', 'motivo', 'della', 'sua', 'parrucca', 'gialla', 'che', 'somigliava', 'moltissimo', 'alla', 'polendina', 'di', 'granturco', '.', 'Geppetto', 'era', 'bizzosissimo', '.', 'Guai', 'a', 'chiamarlo', 'Polendina', '!', 'Diventava', 'subito', 'una', 'bestia', ',', 'e', 'non', \"c'\", 'era', 'più', 'verso', 'di', 'tenerlo', '.', '–', 'Buon', 'giorno', ',', \"mastr'Antonio\", '–', 'disse', 'Geppetto', '.', '–', 'Che', 'cosa', 'fate', 'costì', 'per', 'terra', '?', '–', 'Insegno', \"l'\", 'abbaco', 'alle', 'formicole', '.', '–', 'Buon', 'pro', 'vi', 'faccia', '.', '–', 'Chi', 'vi']\n",
      "[0, 0, 1, 0, 0, 0, 0, 0, 0, 0, 0, 0, 0, 0, 0, 0, 0, 0, 0, 1, 0, 0, 0, 0, 0, 0, 0, 0, 0, 0, 0, 0, 0, 0, 0, 0, 0, 0, 0, 0, 0, 0, 0, 0, 0, 0, 0, 0, 0, 0, 0, 0, 0, 0, 0, 0, 0, 0, 0, 0, 0, 0, 0, 0, 0, 0, 0, 0, 0, 0, 0, 1, 0, 0, 0, 1, 0, 0, 0, 0, 1, 0, 0, 0, 0, 0, 0, 0, 0, 0, 0, 0, 0, 0, 1, 0, 0, 0, 0, 0, 0, 0, 0, 1, 0, 0, 0, 0, 0, 0, 0, 0, 0, 0, 0, 0, 0, 0, 1, 0, 0, 0, 0, 0, 1, 0, 0, 0]\n",
      "[0, 0, 0, 1, 0, 0, 0, 0, 0, 0, 0, 0, 0, 0, 0, 0, 0, 0, 0, 1, 0, 0, 0, 0, 0, 0, 0, 0, 0, 0, 0, 0, 0, 0, 0, 0, 0, 0, 0, 0, 0, 0, 0, 0, 0, 0, 0, 0, 0, 0, 0, 0, 0, 0, 0, 0, 0, 0, 0, 0, 0, 0, 0, 0, 0, 0, 0, 0, 0, 0, 0, 1, 0, 0, 0, 1, 0, 0, 0, 0, 1, 0, 0, 0, 0, 0, 0, 0, 0, 0, 0, 0, 0, 0, 1, 0, 0, 0, 0, 0, 0, 0, 0, 1, 0, 0, 0, 0, 0, 0, 0, 1, 0, 0, 0, 0, 0, 0, 1, 0, 0, 0, 0, 0, 1, 0, 0, 0]\n",
      "1. ha portato da me, compar Geppetto? –\n",
      "2. Le gambe.\n",
      "3. Sappiate, mastr'Antonio, che son venuto da voi, per chiedervi un favore. –\n",
      "4. Eccomi qui, pronto a servirvi, – replicò il falegname, rizzandosi su i ginocchi.\n",
      "5. – Stamani m'è piovuta nel cervello un'idea. –\n",
      "6. Sentiamola. –\n",
      "7. Ho pensato di fabbricarmi da me un bel burattino di legno; ma un burattino maraviglioso, che sappia ballare, tirare di scherma e fare i salti mortali.\n",
      "8. Con questo burattino voglio girare il mondo, per buscarmi un tozzo di pane e un bicchier di vino: che ve ne pare? –\n",
      "9. Bravo Polendina! – gridò la solita vocina, che non si capiva di dove<|eot_id|>\n",
      "Batch 7\n",
      "['ha', 'portato', 'da', 'me', ',', 'compar', 'Geppetto', '?', '–', 'Le', 'gambe', '.', 'Sappiate', ',', \"mastr'Antonio\", ',', 'che', 'son', 'venuto', 'da', 'voi', ',', 'per', 'chiedervi', 'un', 'favore', '.', '–', 'Eccomi', 'qui', ',', 'pronto', 'a', 'servirvi', ',', '–', 'replicò', 'il', 'falegname', ',', 'rizzandosi', 'su', 'i', 'ginocchi', '.', '–', 'Stamani', \"m'è\", 'piovuta', 'nel', 'cervello', \"un'idea\", '.', '–', 'Sentiamola', '.', '–', 'Ho', 'pensato', 'di', 'fabbricarmi', 'da', 'me', 'un', 'bel', 'burattino', 'di', 'legno', ';', 'ma', 'un', 'burattino', 'maraviglioso', ',', 'che', 'sappia', 'ballare', ',', 'tirare', 'di', 'scherma', 'e', 'fare', 'i', 'salti', 'mortali', '.', 'Con', 'questo', 'burattino', 'voglio', 'girare', 'il', 'mondo', ',', 'per', 'buscarmi', 'un', 'tozzo', 'di', 'pane', 'e', 'un', 'bicchier', 'di', 'vino', ':', 'che', 've', 'ne', 'pare', '?', '–', 'Bravo', 'Polendina', '!', '–', 'gridò', 'la', 'solita', 'vocina', ',', 'che', 'non', 'si', 'capiva', 'di', 'dove']\n",
      "[0, 0, 0, 0, 0, 0, 0, 1, 0, 0, 0, 0, 0, 0, 0, 0, 0, 0, 0, 0, 0, 0, 0, 0, 0, 0, 1, 0, 0, 0, 0, 0, 0, 0, 0, 0, 0, 0, 0, 0, 0, 0, 0, 0, 1, 0, 0, 0, 0, 0, 0, 0, 1, 0, 0, 1, 0, 0, 0, 0, 0, 0, 0, 0, 0, 0, 0, 0, 0, 0, 0, 0, 0, 0, 0, 0, 0, 0, 0, 0, 0, 0, 0, 0, 0, 0, 0, 0, 0, 0, 0, 0, 0, 0, 0, 0, 0, 0, 0, 0, 0, 0, 0, 0, 0, 0, 0, 0, 0, 0, 0, 1, 0, 0, 0, 0, 0, 0, 0, 0, 0, 0, 0, 0, 0, 0, 0, 0]\n",
      "[0, 0, 0, 0, 0, 0, 0, 0, 1, 0, 0, 1, 0, 0, 0, 0, 0, 0, 0, 0, 0, 0, 0, 0, 0, 0, 0, 1, 0, 0, 0, 0, 0, 0, 0, 0, 0, 0, 0, 0, 0, 0, 0, 0, 1, 0, 0, 0, 0, 0, 0, 0, 0, 1, 0, 0, 1, 0, 0, 0, 0, 0, 0, 0, 0, 0, 0, 0, 0, 0, 0, 0, 0, 0, 0, 0, 0, 0, 0, 0, 0, 0, 0, 0, 0, 0, 1, 0, 0, 0, 0, 0, 0, 0, 0, 0, 0, 0, 0, 0, 0, 0, 0, 0, 0, 0, 0, 0, 0, 0, 0, 0, 1, 0, 0, 0, 0, 0, 0, 0, 0, 0, 0, 0, 0, 0, 0, 0]\n",
      "1. uscisse.\n",
      "2. A sentirsi chiamar Polendina, compar Geppetto diventò rosso come un peperone dalla bizza, e voltandosi verso il falegname, gli disse imbestialito: – Perchè mi offendete? –\n",
      "3. Chi vi offende? –\n",
      "4. Mi avete detto Polendina! ... –\n",
      "5. Non sono stato io. –\n",
      "6. Sta un po'a vedere che sarò stato io!\n",
      "7. Io dico che siete stato voi. –\n",
      "8. No! –\n",
      "9. Sì! –\n",
      "10. No.\n",
      "11. E riscaldandosi sempre più, vennero dalle parole ai fatti, e acciuffatisi fra di loro, si graffiarono, si morsero e si sbertucciarono.\n",
      "12. Finito il combattimento, mastr'Antonio si trovò fra le mani la parrucca gialla di Geppetto, e Geppetto si accorse di avere in<|eot_id|>\n",
      "Allucination: Aligned sentences ['uscisse.', 'AsentirsichiamarPolendina,comparGeppettodiventòrossocomeunpeperonedallabizza,evoltandosiversoilfalegname,glidisseimbestialito:–Perchèmioffendete?–', 'Chivioffende?–', 'MiavetedettoPolendina!…–', 'Nonsonostatoio.–', \"Staunpo'avederechesaròstatoio!\", 'Iodicochesietestatovoi.–', 'No!–', 'Sì!–', 'No.', 'Eriscaldandosisemprepiù,vennerodalleparoleaifatti,eacciuffatisifradiloro,sigraffiarono,simorseroesisbertucciarono.', \"Finitoilcombattimento,mastr'AntoniositrovòfralemanilaparruccagialladiGeppetto,eGeppettosiaccorsediaverein\"] do not match words uscisse.AsentirsichiamarPolendina,comparGeppettodiventòrossocomeunpeperonedallabizza,evoltandosiversoilfalegname,glidisseimbestialito:–Perchèmioffendete?–Chivioffende?–MiavetedettoPolendina!…–Nonsonostatoio.–Staunpo'avederechesaròstatoio!Iodicochesietestatovoi.–No!–Sì!–No.–Sì.Eriscaldandosisemprepiù,vennerodalleparoleaifatti,eacciuffatisifradiloro,sigraffiarono,simorseroesisbertucciarono.Finitoilcombattimento,mastr'AntoniositrovòfralemanilaparruccagialladiGeppetto,eGeppettosiaccorsediaverein\n",
      "1. bocca la parrucca brizzolata del falegname. – Rendimi la mia parrucca! – gridò mastr'Antonio.\n",
      "2. – E tu rendimi la mia, e rifacciamo la pace.\n",
      "3. I due vecchietti, dopo aver ripreso ognuno di loro la propria parrucca, si strinsero la mano e giurarono di rimanere buoni amici per tutta la vita.\n",
      "4. – Dunque, compar Geppetto, – disse il falegname in segno di pace fatta – qual'è il piacere che volete da me? –\n",
      "5. Vorrei un po'di legno per fabbricare il mio burattino; me lo date?\n",
      "6. Mastr'Antonio, tutto contento, andò subito a prendere sul banco quel pezzo di legno che era stato cagione a lui di tante paure.\n",
      "7. Ma quando fu lì per<|eot_id|>\n",
      "Batch 9\n",
      "['bocca', 'la', 'parrucca', 'brizzolata', 'del', 'falegname', '.', '–', 'Rendimi', 'la', 'mia', 'parrucca', '!', '–', 'gridò', \"mastr'Antonio\", '.', '–', 'E', 'tu', 'rendimi', 'la', 'mia', ',', 'e', 'rifacciamo', 'la', 'pace', '.', 'I', 'due', 'vecchietti', ',', 'dopo', 'aver', 'ripreso', 'ognuno', 'di', 'loro', 'la', 'propria', 'parrucca', ',', 'si', 'strinsero', 'la', 'mano', 'e', 'giurarono', 'di', 'rimanere', 'buoni', 'amici', 'per', 'tutta', 'la', 'vita', '.', '–', 'Dunque', ',', 'compar', 'Geppetto', ',', '–', 'disse', 'il', 'falegname', 'in', 'segno', 'di', 'pace', 'fatta', '–', \"qual'è\", 'il', 'piacere', 'che', 'volete', 'da', 'me', '?', '–', 'Vorrei', 'un', \"po'\", 'di', 'legno', 'per', 'fabbricare', 'il', 'mio', 'burattino', ';', 'me', 'lo', 'date', '?', \"Mastr'Antonio\", ',', 'tutto', 'contento', ',', 'andò', 'subito', 'a', 'prendere', 'sul', 'banco', 'quel', 'pezzo', 'di', 'legno', 'che', 'era', 'stato', 'cagione', 'a', 'lui', 'di', 'tante', 'paure', '.', 'Ma', 'quando', 'fu', 'lì', 'per']\n",
      "[0, 0, 0, 0, 0, 0, 1, 0, 0, 0, 0, 0, 0, 0, 0, 0, 1, 0, 0, 0, 0, 0, 0, 0, 0, 0, 0, 0, 1, 0, 0, 0, 0, 0, 0, 0, 0, 0, 0, 0, 0, 0, 0, 0, 0, 0, 0, 0, 0, 0, 0, 0, 0, 0, 0, 0, 0, 1, 0, 0, 0, 0, 0, 0, 0, 0, 0, 0, 0, 0, 0, 0, 1, 0, 0, 0, 0, 0, 0, 0, 0, 1, 0, 0, 0, 0, 0, 0, 0, 0, 0, 0, 0, 0, 0, 0, 0, 1, 0, 0, 0, 0, 0, 0, 0, 0, 0, 0, 0, 0, 0, 0, 0, 0, 0, 0, 0, 0, 0, 0, 0, 0, 1, 0, 0, 0, 0, 0]\n",
      "[0, 0, 0, 0, 0, 0, 0, 0, 0, 0, 0, 0, 0, 0, 0, 0, 1, 0, 0, 0, 0, 0, 0, 0, 0, 0, 0, 0, 1, 0, 0, 0, 0, 0, 0, 0, 0, 0, 0, 0, 0, 0, 0, 0, 0, 0, 0, 0, 0, 0, 0, 0, 0, 0, 0, 0, 0, 1, 0, 0, 0, 0, 0, 0, 0, 0, 0, 0, 0, 0, 0, 0, 0, 0, 0, 0, 0, 0, 0, 0, 0, 0, 1, 0, 0, 0, 0, 0, 0, 0, 0, 0, 0, 0, 0, 0, 0, 1, 0, 0, 0, 0, 0, 0, 0, 0, 0, 0, 0, 0, 0, 0, 0, 0, 0, 0, 0, 0, 0, 0, 0, 0, 1, 0, 0, 0, 0, 0]\n",
      "1. consegnarlo all'amico, il pezzo di legno dette uno scossone e sgusciandogli violentemente dalle mani, andò a battere con forza negli stinchi imprestezziti del povero Geppetto.\n",
      "2. – Ah! gli è con questo bel garbo, mastr'Antonio, che voi regalate la vostra roba?\n",
      "3. M'avete quasi azzoppito! ...\n",
      "4. – Allora sarò stato io! ...\n",
      "5. – La colpa è tutta di questo legno ...\n",
      "6. – Lo so che è del legno: ma siete voi che me l'avete tirato nelle gambe!\n",
      "7. – Io non ve l'ho tirato!\n",
      "8. – Bugiardo!\n",
      "9. – Geppetto, non mi offendete; se no vi chiamo Polendina! ...\n",
      "10. – Asino!\n",
      "11. – Polendina!\n",
      "12. –<|eot_id|>\n",
      "Allucination: Sentence consegnarloall'amico,ilpezzodilegnodetteunoscossoneesgusciandogliviolentementedallemani,andòabattereconforzaneglistinchiimprestezzitidelpoveroGeppetto. not found in consegnarloall'amico,ilpezzodilegnodetteunoscossoneesgusciandogliviolentementedallemani,andòabattereconforzaneglistinchiimpresciuttitidelpoveroGeppetto.–Ah!glièconquestobelgarbo,mastr'Antonio,chevoiregalatelavostraroba?M'avetequasiazzoppito!…–Vigiurochenonsonostatoio!–Allorasaròstatoio!…–Lacolpaètuttadiquestolegno…–Losocheèdellegno:masietevoichemel'avetetiratonellegambe!–Iononvel'hotirato!–Bugiardo!–Geppetto,nonmioffendete;senovichiamoPolendina!…–Asino!–Polendina!–\n",
      "1. Somaro! – Polendina! – Brutto scimmiotto! – Polendina!\n",
      "2. A sentirsi chiamar Polendina per la terza volta, Geppetto perse il lume degli occhi, e si avventò sul falegname; e lì se ne dettero un sacco e una sporta.\n",
      "3. A battaglia finita, mastr'Antonio si trovò due graffi di più sul naso, e quell'altro due bottoni di meno al giubbetto.\n",
      "4. Pareggiati in questo modo i loro conti, si strinsero la mano e giurarono di rimanere buoni amici per tutta la vita.\n",
      "5. Intanto Geppetto prese con sè il suo bravo pezzo di legno, e ringraziato mastr'Antonio, se ne tornò zoppicando a casa.<|eot_id|>\n",
      "Batch 11\n",
      "['Somaro', '!', '–', 'Polendina', '!', '–', 'Brutto', 'scimmiotto', '!', '–', 'Polendina', '!', 'A', 'sentirsi', 'chiamar', 'Polendina', 'per', 'la', 'terza', 'volta', ',', 'Geppetto', 'perse', 'il', 'lume', 'degli', 'occhi', ',', 'e', 'si', 'avventò', 'sul', 'falegname', ';', 'e', 'lì', 'se', 'ne', 'dettero', 'un', 'sacco', 'e', 'una', 'sporta', '.', 'A', 'battaglia', 'finita', ',', \"mastr'Antonio\", 'si', 'trovò', 'due', 'graffi', 'di', 'più', 'sul', 'naso', ',', 'e', \"quell'altro\", 'due', 'bottoni', 'di', 'meno', 'al', 'giubbetto', '.', 'Pareggiati', 'in', 'questo', 'modo', 'i', 'loro', 'conti', ',', 'si', 'strinsero', 'la', 'mano', 'e', 'giurarono', 'di', 'rimanere', 'buoni', 'amici', 'per', 'tutta', 'la', 'vita', '.', 'Intanto', 'Geppetto', 'prese', 'con', 'sè', 'il', 'suo', 'bravo', 'pezzo', 'di', 'legno', ',', 'e', 'ringraziato', \"mastr'Antonio\", ',', 'se', 'ne', 'tornò', 'zoppicando', 'a', 'casa', '.']\n",
      "[0, 1, 0, 0, 1, 0, 0, 0, 1, 0, 0, 1, 0, 0, 0, 0, 0, 0, 0, 0, 0, 0, 0, 0, 0, 0, 0, 0, 0, 0, 0, 0, 0, 1, 0, 0, 0, 0, 0, 0, 0, 0, 0, 0, 1, 0, 0, 0, 0, 0, 0, 0, 0, 0, 0, 0, 0, 0, 0, 0, 0, 0, 0, 0, 0, 0, 0, 1, 0, 0, 0, 0, 0, 0, 0, 0, 0, 0, 0, 0, 0, 0, 0, 0, 0, 0, 0, 0, 0, 0, 1, 0, 0, 0, 0, 0, 0, 0, 0, 0, 0, 0, 0, 0, 0, 0, 0, 0, 0, 0, 0, 0, 0, 1]\n",
      "[0, 0, 0, 0, 0, 0, 0, 0, 0, 0, 0, 1, 0, 0, 0, 0, 0, 0, 0, 0, 0, 0, 0, 0, 0, 0, 0, 0, 0, 0, 0, 0, 0, 0, 0, 0, 0, 0, 0, 0, 0, 0, 0, 0, 1, 0, 0, 0, 0, 0, 0, 0, 0, 0, 0, 0, 0, 0, 0, 0, 0, 0, 0, 0, 0, 0, 0, 1, 0, 0, 0, 0, 0, 0, 0, 0, 0, 0, 0, 0, 0, 0, 0, 0, 0, 0, 0, 0, 0, 0, 1, 0, 0, 0, 0, 0, 0, 0, 0, 0, 0, 0, 0, 0, 0, 0, 0, 0, 0, 0, 0, 0, 0, 1]\n",
      "Minerva-7B-instruct-v1.0-sentence-splitter F1:  {'f1': 0.7445255474452555}\n"
     ]
    }
   ],
   "source": [
    "for i, batch in enumerate(dataset_dict[\"test\"].iter(batch_size=1)):\n",
    "    words = batch[\"tokens\"][0]\n",
    "    golden_labels = batch[\"labels\"][0]\n",
    "\n",
    "    output = use_model(model, tokenizer, words_to_sequence(words)).cpu()\n",
    "    minerva_output = tokenizer.decode(output[0])\n",
    "\n",
    "    try:\n",
    "        minerva_labels_helper = MinervaLabels(minerva_output, words)\n",
    "    except AllucinationException as e:\n",
    "        print(\"Allucination:\", e)\n",
    "        all_words.extend(words)\n",
    "        all_golden_labels.extend(golden_labels)\n",
    "        # In this case we will put all zeros as produced labels,\n",
    "        # giving a penalty to the model for not having produced a consistent (parsable) answer,\n",
    "        # keeping the shape of the output CSV files consistent with other models.\n",
    "        all_minerva_labels.extend([0] * len(golden_labels))\n",
    "        continue\n",
    "    \n",
    "    minerva_labels = minerva_labels_helper.aligned_labels(golden_labels)\n",
    "\n",
    "    print(f\"Batch {i}\")\n",
    "    print(words)\n",
    "    print(golden_labels)\n",
    "    print(minerva_labels)\n",
    "\n",
    "    all_words.extend(words)\n",
    "    all_golden_labels.extend(golden_labels)\n",
    "    all_minerva_labels.extend(minerva_labels)\n",
    "    minerva_f1.add_batch(predictions=minerva_labels, references=golden_labels)\n",
    "\n",
    "print(\"Minerva-7B-instruct-v1.0-sentence-splitter F1: \", minerva_f1.compute())"
   ]
  },
  {
   "cell_type": "markdown",
   "id": "5a69e721",
   "metadata": {},
   "source": [
    "Finally, export the inference results to a CSV file for further analysis and comparison with other models."
   ]
  },
  {
   "cell_type": "code",
   "execution_count": 13,
   "id": "8b4ef4ef",
   "metadata": {},
   "outputs": [],
   "source": [
    "# produce a pandas dataframe with the results\n",
    "mb_results = pd.DataFrame({\n",
    "    \"token\": all_words,\n",
    "    \"label\": all_minerva_labels,\n",
    "})\n",
    "\n",
    "# save the results\n",
    "mb_results.to_csv(\"Lost_in_language_recognition-hw2_split-Minerva-7B-based.csv\", index=False)"
   ]
  },
  {
   "cell_type": "markdown",
   "id": "0fef9d6f",
   "metadata": {},
   "source": [
    "The results from this notebook will be used to analyze common prediction errors and model performance patterns. Detailed analysis and insights can be found in the accompanying research report."
   ]
  }
 ],
 "metadata": {
  "kernelspec": {
   "display_name": "Python 3.11",
   "language": "python",
   "name": "python3"
  },
  "language_info": {
   "codemirror_mode": {
    "name": "ipython",
    "version": 3
   },
   "file_extension": ".py",
   "mimetype": "text/x-python",
   "name": "python",
   "nbconvert_exporter": "python",
   "pygments_lexer": "ipython3",
   "version": "3.11.11"
  }
 },
 "nbformat": 4,
 "nbformat_minor": 5
}
