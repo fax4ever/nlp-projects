{
 "cells": [
  {
   "cell_type": "markdown",
   "id": "aef88771",
   "metadata": {},
   "source": [
    "# Sentence Splitter: Out of Domain Evaluation\n",
    "\n",
    "Install the required libraries in your virtual environment:"
   ]
  },
  {
   "cell_type": "code",
   "execution_count": null,
   "id": "2c58f4e8",
   "metadata": {},
   "outputs": [],
   "source": [
    "!pip install --upgrade pip\n",
    "!pip install transformers urllib3"
   ]
  },
  {
   "cell_type": "markdown",
   "id": "58fe62fc",
   "metadata": {},
   "source": [
    "Import all libraries that we will use."
   ]
  },
  {
   "cell_type": "code",
   "execution_count": null,
   "id": "31fb30d7",
   "metadata": {},
   "outputs": [],
   "source": [
    "import pandas as pd\n",
    "from transformers import pipeline\n",
    "import urllib3"
   ]
  },
  {
   "cell_type": "markdown",
   "id": "e253f02c",
   "metadata": {},
   "source": [
    "## Part One: Eval Embedding base models"
   ]
  },
  {
   "cell_type": "code",
   "execution_count": null,
   "id": "9739f28b",
   "metadata": {},
   "outputs": [],
   "source": [
    "trained_model_name = \"bert-base-cased-sentence-splitter\""
   ]
  },
  {
   "cell_type": "markdown",
   "id": "67c1c14c",
   "metadata": {},
   "source": [
    "Choose `trained_model_name` between:\n",
    "\n",
    "1. bert-base-cased-sentence-splitter\n",
    "2. ModernBERT-base-ita-sentence-splitter\n",
    "3. bert-base-italian-xxl-cased-sentence-splitter\n",
    "4. xlm-roberta-base-sentence-splitter\n",
    "5. xlm-roberta-large-sentence-splitter\n",
    "6. electra-base-italian-xxl-cased-discriminator-sentence-splitter"
   ]
  },
  {
   "cell_type": "code",
   "execution_count": null,
   "id": "a60f25fe",
   "metadata": {},
   "outputs": [],
   "source": [
    "model_checkpoint = \"fax4ever/\" + trained_model_name\n",
    "inference_pipeline = pipeline(\"token-classification\", model=model_checkpoint, \n",
    "                              aggregation_strategy=\"simple\")"
   ]
  },
  {
   "cell_type": "markdown",
   "id": "2fbc0983",
   "metadata": {},
   "source": [
    "Load the out of domain (other authors) dataset:"
   ]
  },
  {
   "cell_type": "code",
   "execution_count": null,
   "id": "0798ef9c",
   "metadata": {},
   "outputs": [],
   "source": [
    "def load_text(url):\n",
    "    return urllib3.urlopen(url).read()\n",
    "\n",
    "def load_lines_of_text(url):\n",
    "    result = []\n",
    "    for line in urllib3.urlopen(url):\n",
    "        result.append(line.decode('utf-8').strip())\n",
    "BASE_URL = \"https://raw.githubusercontent.com/RacheleSprugnoli/Sentence_Splitting_Manzoni/refs/heads/main/test-novels/\"\n",
    "\n",
    "cuore_test = load_text(BASE_URL + \"Cuore-test.txt\")\n",
    "cuore_lines = load_lines_of_text(BASE_URL + \"Cuore-GOLD.txt\")"
   ]
  },
  {
   "cell_type": "markdown",
   "id": "0950f2c6",
   "metadata": {},
   "source": []
  }
 ],
 "metadata": {
  "language_info": {
   "name": "python"
  }
 },
 "nbformat": 4,
 "nbformat_minor": 5
}
