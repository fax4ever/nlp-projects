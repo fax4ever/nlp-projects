{
 "cells": [
  {
   "cell_type": "markdown",
   "id": "aef88771",
   "metadata": {},
   "source": [
    "# Sentence Splitter: Out of Domain Evaluation\n",
    "\n",
    "In this notebook we will evaluate the models we produced for sentence splitting,\n",
    "on the same domain (Quarantana - Manzoni) and out of domain (on novels from different authors of the same time).\n",
    "We copied with a little adaptation from the golden splitting novels from [Sentence Splitting Manzoni annotated datset](https://github.com/RacheleSprugnoli/Sentence_Splitting_Manzoni/tree/main/test-novels).\n",
    "\n",
    "\n",
    "Install the required libraries in your virtual environment:"
   ]
  },
  {
   "cell_type": "code",
   "execution_count": null,
   "id": "2c58f4e8",
   "metadata": {},
   "outputs": [],
   "source": [
    "!pip install --upgrade pip\n",
    "!pip install transformers"
   ]
  },
  {
   "cell_type": "markdown",
   "id": "58fe62fc",
   "metadata": {},
   "source": [
    "Import all libraries that we will use."
   ]
  },
  {
   "cell_type": "code",
   "execution_count": null,
   "id": "31fb30d7",
   "metadata": {},
   "outputs": [],
   "source": [
    "import numpy as np\n",
    "import evaluate\n",
    "from transformers import pipeline\n",
    "from pathlib import Path\n",
    "import random\n",
    "import torch"
   ]
  },
  {
   "cell_type": "markdown",
   "id": "29e8e03e",
   "metadata": {},
   "source": [
    "Before proceeding, make the run as deterministic as possible:"
   ]
  },
  {
   "cell_type": "code",
   "execution_count": null,
   "id": "397cfa88",
   "metadata": {},
   "outputs": [],
   "source": [
    "def set_seed(seed=777, total_determinism=False):\n",
    "    seed = seed\n",
    "    torch.manual_seed(seed)\n",
    "    torch.backends.cudnn.deterministic = True\n",
    "    torch.backends.cudnn.benchmark = False\n",
    "    if total_determinism:\n",
    "        torch.use_deterministic_algorithms(True)\n",
    "    random.seed(seed)\n",
    "    np.random.seed(seed)\n",
    "    if torch.cuda.is_available():\n",
    "        torch.cuda.manual_seed(seed)\n",
    "        torch.cuda.manual_seed_all(seed)\n",
    "set_seed() # Set the seed for reproducibility -- use_deterministic_algorithms can make training slower :("
   ]
  },
  {
   "cell_type": "markdown",
   "id": "e253f02c",
   "metadata": {},
   "source": [
    "We need first of all produce labels from a pieces of gold-annotated splitted "
   ]
  },
  {
   "cell_type": "code",
   "execution_count": null,
   "id": "9739f28b",
   "metadata": {},
   "outputs": [],
   "source": [
    "trained_model_name = \"bert-base-cased-sentence-splitter\""
   ]
  },
  {
   "cell_type": "markdown",
   "id": "67c1c14c",
   "metadata": {},
   "source": [
    "Choose `trained_model_name` between:\n",
    "\n",
    "1. bert-base-cased-sentence-splitter\n",
    "2. ModernBERT-base-ita-sentence-splitter\n",
    "3. bert-base-italian-xxl-cased-sentence-splitter\n",
    "4. xlm-roberta-base-sentence-splitter\n",
    "5. xlm-roberta-large-sentence-splitter\n",
    "6. electra-base-italian-xxl-cased-discriminator-sentence-splitter"
   ]
  },
  {
   "cell_type": "code",
   "execution_count": null,
   "id": "a60f25fe",
   "metadata": {},
   "outputs": [],
   "source": [
    "model_checkpoint = \"fax4ever/\" + trained_model_name\n",
    "inference_pipeline = pipeline(\"token-classification\", model=model_checkpoint, \n",
    "                              aggregation_strategy=\"simple\")"
   ]
  },
  {
   "cell_type": "markdown",
   "id": "2fbc0983",
   "metadata": {},
   "source": [
    "Load the out of domain (other authors) dataset:"
   ]
  },
  {
   "cell_type": "code",
   "execution_count": null,
   "id": "0798ef9c",
   "metadata": {},
   "outputs": [],
   "source": [
    "def load_text(url):\n",
    "    return urllib3.urlopen(url).read()\n",
    "\n",
    "def load_lines_of_text(url):\n",
    "    result = []\n",
    "    for line in urllib3.urlopen(url):\n",
    "        result.append(line.decode('utf-8').strip())\n",
    "BASE_URL = \"https://raw.githubusercontent.com/RacheleSprugnoli/Sentence_Splitting_Manzoni/refs/heads/main/test-novels/\"\n",
    "\n",
    "cuore_test = load_text(BASE_URL + \"Cuore-test.txt\")\n",
    "cuore_lines = load_lines_of_text(BASE_URL + \"Cuore-GOLD.txt\")"
   ]
  },
  {
   "cell_type": "markdown",
   "id": "0950f2c6",
   "metadata": {},
   "source": []
  }
 ],
 "metadata": {
  "language_info": {
   "name": "python"
  }
 },
 "nbformat": 4,
 "nbformat_minor": 5
}
