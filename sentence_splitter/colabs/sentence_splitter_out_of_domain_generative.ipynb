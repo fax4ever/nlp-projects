{
 "cells": [
  {
   "cell_type": "markdown",
   "id": "803724cc",
   "metadata": {},
   "source": [
    "# Sentence Splitter: Out of Domain Evaluation (Generative models)"
   ]
  },
  {
   "cell_type": "code",
   "execution_count": null,
   "id": "215f6adc",
   "metadata": {},
   "outputs": [],
   "source": [
    "!pip install --upgrade pip\n",
    "!pip install transformers evaluate"
   ]
  },
  {
   "cell_type": "markdown",
   "id": "cda69806",
   "metadata": {},
   "source": [
    "Import all libraries that we will use."
   ]
  },
  {
   "cell_type": "code",
   "execution_count": null,
   "id": "c897baf0",
   "metadata": {},
   "outputs": [],
   "source": []
  }
 ],
 "metadata": {
  "language_info": {
   "name": "python"
  }
 },
 "nbformat": 4,
 "nbformat_minor": 5
}
